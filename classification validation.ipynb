{
 "cells": [
  {
   "cell_type": "code",
   "execution_count": 2,
   "metadata": {},
   "outputs": [
    {
     "name": "stderr",
     "output_type": "stream",
     "text": [
      "/anaconda3/lib/python3.6/site-packages/smart_open/smart_open_lib.py:398: UserWarning: This function is deprecated, use smart_open.open instead. See the migration notes for details: https://github.com/RaRe-Technologies/smart_open/blob/master/README.rst#migrating-to-the-new-open-function\n",
      "  'See the migration notes for details: %s' % _MIGRATION_NOTES_URL\n",
      "/anaconda3/lib/python3.6/site-packages/smart_open/smart_open_lib.py:398: UserWarning: This function is deprecated, use smart_open.open instead. See the migration notes for details: https://github.com/RaRe-Technologies/smart_open/blob/master/README.rst#migrating-to-the-new-open-function\n",
      "  'See the migration notes for details: %s' % _MIGRATION_NOTES_URL\n"
     ]
    }
   ],
   "source": [
    "from flaskexample.perfume_recommendation import Fragrance_Retrieve_Model\n",
    "import pandas as pd\n",
    "import numpy as np\n",
    "gre = Fragrance_Retrieve_Model()"
   ]
  },
  {
   "cell_type": "code",
   "execution_count": 5,
   "metadata": {},
   "outputs": [
    {
     "name": "stdout",
     "output_type": "stream",
     "text": [
      "255\n"
     ]
    }
   ],
   "source": [
    "#total number of products\n",
    "print(gre.df.shape[0])"
   ]
  },
  {
   "cell_type": "code",
   "execution_count": 6,
   "metadata": {},
   "outputs": [
    {
     "name": "stdout",
     "output_type": "stream",
     "text": [
      "(169, 15)\n"
     ]
    }
   ],
   "source": [
    "#pick the products with \"Fragrance Family\" label\n",
    "\n",
    "clasification_list = pd.notna(gre.df[\"Fragrance Family\"])\n",
    "clasification_df = gre.df.loc[clasification_list]\n",
    "clasification_df.reset_index(inplace=True)\n",
    "print(clasification_df.shape)\n"
   ]
  },
  {
   "cell_type": "code",
   "execution_count": null,
   "metadata": {},
   "outputs": [],
   "source": []
  },
  {
   "cell_type": "code",
   "execution_count": null,
   "metadata": {},
   "outputs": [],
   "source": [
    "#get lsi embeddings, get only the products with \"Fragrance Family\"\n",
    "lsi_matrix = gre.lsi_matrix.reset_index().loc[cluster_list]\n",
    "lsi_matrix.reset_index(inplace = True)\n",
    "lsi_matrix.drop(['name','index'], axis=1,inplace=True)\n",
    "lsi_matrix.head()"
   ]
  },
  {
   "cell_type": "code",
   "execution_count": null,
   "metadata": {},
   "outputs": [],
   "source": [
    "#get doc2vec embeddings\n",
    "doctovec_matrix = gre.doctovec_feature_matrix.reset_index().loc[cluster_list]\n",
    "doctovec_matrix.reset_index(inplace=True)\n",
    "doctovec_matrix.drop(['name','index'], axis=1,inplace=True)\n",
    "doctovec_matrix.head()"
   ]
  },
  {
   "cell_type": "code",
   "execution_count": null,
   "metadata": {},
   "outputs": [],
   "source": [
    "#calculate the similarity matrix\n",
    "from sklearn.metrics.pairwise import cosine_similarity\n",
    "lsi_similarities = cosine_similarity(lsi_matrix)\n",
    "doctovec_similarities = cosine_similarity(doctovec_matrix)\n",
    "tot_similarities = lsi_similarities*(0.7)+doctovec_similarities*(0.3)\n",
    "tot_similarities"
   ]
  }
 ],
 "metadata": {
  "kernelspec": {
   "display_name": "Python 3",
   "language": "python",
   "name": "python3"
  },
  "language_info": {
   "codemirror_mode": {
    "name": "ipython",
    "version": 3
   },
   "file_extension": ".py",
   "mimetype": "text/x-python",
   "name": "python",
   "nbconvert_exporter": "python",
   "pygments_lexer": "ipython3",
   "version": "3.6.7"
  }
 },
 "nbformat": 4,
 "nbformat_minor": 2
}
