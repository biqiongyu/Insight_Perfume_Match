{
 "cells": [
  {
   "cell_type": "code",
   "execution_count": 1,
   "metadata": {},
   "outputs": [],
   "source": [
    "#! pip install gensim\n",
    "import re\n",
    "import pandas as pd\n",
    "import numpy as np\n",
    "import matplotlib.pyplot as plt\n",
    "import seaborn as sns\n",
    "import pickle\n",
    "from nltk.tokenize import word_tokenize\n",
    "from string import punctuation \n",
    "from nltk.corpus import stopwords\n",
    "from nltk.stem import SnowballStemmer\n",
    "from nltk.tokenize import RegexpTokenizer\n",
    "import gensim\n",
    "from gensim.test.utils import get_tmpfile\n"
   ]
  },
  {
   "cell_type": "code",
   "execution_count": 2,
   "metadata": {},
   "outputs": [],
   "source": [
    "def preprocessText(text):\n",
    "            \n",
    "        stops = set(stopwords.words(\"english\"))\n",
    "        #add more stopwords in this particular case\n",
    "        stops.extend(['love','like','hate','amazing','favorite','dislike',\"don't\",'awesome','great','good','bad','horrible','excellent'])\n",
    "        stemmer = SnowballStemmer('english')\n",
    "\n",
    "        text = str(text).lower() # convert text to lower-case\n",
    "        text = word_tokenize(text) # remove repeated characters (helloooooooo into hello)    \n",
    "     \n",
    "        stemmed_words = [stemmer.stem(word) for word in text]\n",
    "        text = \" \".join(stemmed_words) # word stemmer\n",
    "    \n",
    "        tokenizer = RegexpTokenizer(r'\\w+') #tokenize\n",
    "        text = tokenizer.tokenize(text)\n",
    "    \n",
    "        stop_words = [word for word in text if word not in stops]\n",
    "        text = \" \".join(stop_words)\n",
    "   \n",
    "        return text"
   ]
  },
  {
   "cell_type": "code",
   "execution_count": 3,
   "metadata": {},
   "outputs": [],
   "source": [
    "#Text preprocess \n",
    "df_review = pd.read_csv('flaskexample/data/fragrance_data.csv')\n",
    "df_review['preprocess_text_tot'] = df_review['text_tot'].apply(lambda x: preprocessText(x))"
   ]
  },
  {
   "cell_type": "markdown",
   "metadata": {},
   "source": [
    "# Use doc2vec"
   ]
  },
  {
   "cell_type": "code",
   "execution_count": 4,
   "metadata": {},
   "outputs": [],
   "source": [
    "# build vocabuary using doc2vec\n",
    "documents = df_review['preprocess_text_tot']\n",
    "formatted_documents = [gensim.models.doc2vec.TaggedDocument(doc, [i]) for i, doc in enumerate(documents)]\n",
    "\n",
    "model = gensim.models.doc2vec.Doc2Vec(vector_size=200, min_count=2, epochs=200, seed=0, window=3, dm=1)\n",
    "model.build_vocab(formatted_documents)"
   ]
  },
  {
   "cell_type": "code",
   "execution_count": 5,
   "metadata": {},
   "outputs": [
    {
     "name": "stdout",
     "output_type": "stream",
     "text": [
      "CPU times: user 9min 26s, sys: 3.99 s, total: 9min 30s\n",
      "Wall time: 4min 4s\n"
     ]
    }
   ],
   "source": [
    "# train model\n",
    "%time model.train(formatted_documents, total_examples=model.corpus_count, epochs=model.epochs)\n"
   ]
  },
  {
   "cell_type": "code",
   "execution_count": 6,
   "metadata": {},
   "outputs": [
    {
     "name": "stderr",
     "output_type": "stream",
     "text": [
      "/anaconda3/lib/python3.6/site-packages/smart_open/smart_open_lib.py:398: UserWarning: This function is deprecated, use smart_open.open instead. See the migration notes for details: https://github.com/RaRe-Technologies/smart_open/blob/master/README.rst#migrating-to-the-new-open-function\n",
      "  'See the migration notes for details: %s' % _MIGRATION_NOTES_URL\n",
      "/anaconda3/lib/python3.6/site-packages/smart_open/smart_open_lib.py:398: UserWarning: This function is deprecated, use smart_open.open instead. See the migration notes for details: https://github.com/RaRe-Technologies/smart_open/blob/master/README.rst#migrating-to-the-new-open-function\n",
      "  'See the migration notes for details: %s' % _MIGRATION_NOTES_URL\n"
     ]
    }
   ],
   "source": [
    "model.save(\"flaskexample/models/doc2vec_model\")\n",
    "model = gensim.models.doc2vec.Doc2Vec.load(\"flaskexample/models/doc2vec_model\")\n"
   ]
  },
  {
   "cell_type": "code",
   "execution_count": 7,
   "metadata": {},
   "outputs": [
    {
     "name": "stdout",
     "output_type": "stream",
     "text": [
      "(255, 200)\n"
     ]
    },
    {
     "data": {
      "text/html": [
       "<div>\n",
       "<style scoped>\n",
       "    .dataframe tbody tr th:only-of-type {\n",
       "        vertical-align: middle;\n",
       "    }\n",
       "\n",
       "    .dataframe tbody tr th {\n",
       "        vertical-align: top;\n",
       "    }\n",
       "\n",
       "    .dataframe thead th {\n",
       "        text-align: right;\n",
       "    }\n",
       "</style>\n",
       "<table border=\"1\" class=\"dataframe\">\n",
       "  <thead>\n",
       "    <tr style=\"text-align: right;\">\n",
       "      <th></th>\n",
       "      <th>0</th>\n",
       "      <th>1</th>\n",
       "      <th>2</th>\n",
       "      <th>3</th>\n",
       "      <th>4</th>\n",
       "      <th>5</th>\n",
       "      <th>6</th>\n",
       "      <th>7</th>\n",
       "      <th>8</th>\n",
       "      <th>9</th>\n",
       "      <th>...</th>\n",
       "      <th>190</th>\n",
       "      <th>191</th>\n",
       "      <th>192</th>\n",
       "      <th>193</th>\n",
       "      <th>194</th>\n",
       "      <th>195</th>\n",
       "      <th>196</th>\n",
       "      <th>197</th>\n",
       "      <th>198</th>\n",
       "      <th>199</th>\n",
       "    </tr>\n",
       "    <tr>\n",
       "      <th>name</th>\n",
       "      <th></th>\n",
       "      <th></th>\n",
       "      <th></th>\n",
       "      <th></th>\n",
       "      <th></th>\n",
       "      <th></th>\n",
       "      <th></th>\n",
       "      <th></th>\n",
       "      <th></th>\n",
       "      <th></th>\n",
       "      <th></th>\n",
       "      <th></th>\n",
       "      <th></th>\n",
       "      <th></th>\n",
       "      <th></th>\n",
       "      <th></th>\n",
       "      <th></th>\n",
       "      <th></th>\n",
       "      <th></th>\n",
       "      <th></th>\n",
       "      <th></th>\n",
       "    </tr>\n",
       "  </thead>\n",
       "  <tbody>\n",
       "    <tr>\n",
       "      <th>1 Million</th>\n",
       "      <td>-0.190247</td>\n",
       "      <td>-0.220047</td>\n",
       "      <td>-0.540574</td>\n",
       "      <td>0.046998</td>\n",
       "      <td>-0.118783</td>\n",
       "      <td>0.163167</td>\n",
       "      <td>-0.016003</td>\n",
       "      <td>0.295755</td>\n",
       "      <td>0.317590</td>\n",
       "      <td>0.126865</td>\n",
       "      <td>...</td>\n",
       "      <td>-0.430949</td>\n",
       "      <td>0.459229</td>\n",
       "      <td>0.332098</td>\n",
       "      <td>-0.332040</td>\n",
       "      <td>-0.478645</td>\n",
       "      <td>0.079880</td>\n",
       "      <td>-0.018344</td>\n",
       "      <td>-0.133258</td>\n",
       "      <td>0.507208</td>\n",
       "      <td>0.486550</td>\n",
       "    </tr>\n",
       "    <tr>\n",
       "      <th>1 Million Lucky</th>\n",
       "      <td>-0.437599</td>\n",
       "      <td>0.423910</td>\n",
       "      <td>-0.445861</td>\n",
       "      <td>0.197835</td>\n",
       "      <td>0.278395</td>\n",
       "      <td>0.914936</td>\n",
       "      <td>0.995753</td>\n",
       "      <td>1.078198</td>\n",
       "      <td>-0.633990</td>\n",
       "      <td>-1.153638</td>\n",
       "      <td>...</td>\n",
       "      <td>-0.419501</td>\n",
       "      <td>-0.037868</td>\n",
       "      <td>0.210415</td>\n",
       "      <td>0.244514</td>\n",
       "      <td>-0.302211</td>\n",
       "      <td>0.368630</td>\n",
       "      <td>-0.070497</td>\n",
       "      <td>-0.409927</td>\n",
       "      <td>0.428931</td>\n",
       "      <td>0.205837</td>\n",
       "    </tr>\n",
       "    <tr>\n",
       "      <th>212</th>\n",
       "      <td>1.055334</td>\n",
       "      <td>1.164508</td>\n",
       "      <td>-1.165695</td>\n",
       "      <td>0.964227</td>\n",
       "      <td>-0.085889</td>\n",
       "      <td>-0.775081</td>\n",
       "      <td>-0.129363</td>\n",
       "      <td>0.309515</td>\n",
       "      <td>0.044691</td>\n",
       "      <td>0.003909</td>\n",
       "      <td>...</td>\n",
       "      <td>0.295341</td>\n",
       "      <td>0.346382</td>\n",
       "      <td>0.179234</td>\n",
       "      <td>0.293057</td>\n",
       "      <td>-0.417461</td>\n",
       "      <td>-0.390325</td>\n",
       "      <td>0.547509</td>\n",
       "      <td>0.277828</td>\n",
       "      <td>0.139696</td>\n",
       "      <td>0.474434</td>\n",
       "    </tr>\n",
       "  </tbody>\n",
       "</table>\n",
       "<p>3 rows × 200 columns</p>\n",
       "</div>"
      ],
      "text/plain": [
       "                      0         1         2         3         4         5    \\\n",
       "name                                                                          \n",
       "1 Million       -0.190247 -0.220047 -0.540574  0.046998 -0.118783  0.163167   \n",
       "1 Million Lucky -0.437599  0.423910 -0.445861  0.197835  0.278395  0.914936   \n",
       "212              1.055334  1.164508 -1.165695  0.964227 -0.085889 -0.775081   \n",
       "\n",
       "                      6         7         8         9      ...          190  \\\n",
       "name                                                       ...                \n",
       "1 Million       -0.016003  0.295755  0.317590  0.126865    ...    -0.430949   \n",
       "1 Million Lucky  0.995753  1.078198 -0.633990 -1.153638    ...    -0.419501   \n",
       "212             -0.129363  0.309515  0.044691  0.003909    ...     0.295341   \n",
       "\n",
       "                      191       192       193       194       195       196  \\\n",
       "name                                                                          \n",
       "1 Million        0.459229  0.332098 -0.332040 -0.478645  0.079880 -0.018344   \n",
       "1 Million Lucky -0.037868  0.210415  0.244514 -0.302211  0.368630 -0.070497   \n",
       "212              0.346382  0.179234  0.293057 -0.417461 -0.390325  0.547509   \n",
       "\n",
       "                      197       198       199  \n",
       "name                                           \n",
       "1 Million       -0.133258  0.507208  0.486550  \n",
       "1 Million Lucky -0.409927  0.428931  0.205837  \n",
       "212              0.277828  0.139696  0.474434  \n",
       "\n",
       "[3 rows x 200 columns]"
      ]
     },
     "execution_count": 7,
     "metadata": {},
     "output_type": "execute_result"
    }
   ],
   "source": [
    "# build doc2vec matrix\n",
    "doctovec_feature_matrix = pd.DataFrame(model.docvecs.vectors_docs, index=df_review['name'])\n",
    "print(doctovec_feature_matrix.shape)\n",
    "doctovec_feature_matrix.head(3)\n"
   ]
  },
  {
   "cell_type": "code",
   "execution_count": 8,
   "metadata": {},
   "outputs": [],
   "source": [
    "pickle.dump(doctovec_feature_matrix, open(\"flaskexample/models/doctovec_embeddings.pkl\", \"wb\"))"
   ]
  },
  {
   "cell_type": "markdown",
   "metadata": {},
   "source": [
    "# Use LSA, TF-IDF"
   ]
  },
  {
   "cell_type": "code",
   "execution_count": 10,
   "metadata": {},
   "outputs": [
    {
     "name": "stderr",
     "output_type": "stream",
     "text": [
      "/anaconda3/lib/python3.6/site-packages/smart_open/smart_open_lib.py:398: UserWarning: This function is deprecated, use smart_open.open instead. See the migration notes for details: https://github.com/RaRe-Technologies/smart_open/blob/master/README.rst#migrating-to-the-new-open-function\n",
      "  'See the migration notes for details: %s' % _MIGRATION_NOTES_URL\n"
     ]
    }
   ],
   "source": [
    "#Use gensim\n",
    "# create dictionary\n",
    "from gensim import corpora, models\n",
    "dictionary = corpora.Dictionary(df_review['preprocess_text_tot'].str.split())\n",
    "dictionary.save('flaskexample/models/dictionary')"
   ]
  },
  {
   "cell_type": "code",
   "execution_count": 11,
   "metadata": {},
   "outputs": [],
   "source": [
    "#create corpus\n",
    "corpus = [dictionary.doc2bow(text) for text in df_review['preprocess_text_tot'].str.split()]"
   ]
  },
  {
   "cell_type": "code",
   "execution_count": 12,
   "metadata": {},
   "outputs": [
    {
     "name": "stderr",
     "output_type": "stream",
     "text": [
      "/anaconda3/lib/python3.6/site-packages/smart_open/smart_open_lib.py:398: UserWarning: This function is deprecated, use smart_open.open instead. See the migration notes for details: https://github.com/RaRe-Technologies/smart_open/blob/master/README.rst#migrating-to-the-new-open-function\n",
      "  'See the migration notes for details: %s' % _MIGRATION_NOTES_URL\n"
     ]
    }
   ],
   "source": [
    "#create TF-IDF vectors\n",
    "tfidf = models.TfidfModel(corpus) # fit model\n",
    "corpus_tfidf = tfidf[corpus]\n",
    "tfidf.save('flaskexample/models/tfidf')  # same for tfidf, lda, ..."
   ]
  },
  {
   "cell_type": "code",
   "execution_count": 13,
   "metadata": {},
   "outputs": [
    {
     "name": "stderr",
     "output_type": "stream",
     "text": [
      "/anaconda3/lib/python3.6/site-packages/smart_open/smart_open_lib.py:398: UserWarning: This function is deprecated, use smart_open.open instead. See the migration notes for details: https://github.com/RaRe-Technologies/smart_open/blob/master/README.rst#migrating-to-the-new-open-function\n",
      "  'See the migration notes for details: %s' % _MIGRATION_NOTES_URL\n",
      "/anaconda3/lib/python3.6/site-packages/smart_open/smart_open_lib.py:398: UserWarning: This function is deprecated, use smart_open.open instead. See the migration notes for details: https://github.com/RaRe-Technologies/smart_open/blob/master/README.rst#migrating-to-the-new-open-function\n",
      "  'See the migration notes for details: %s' % _MIGRATION_NOTES_URL\n"
     ]
    }
   ],
   "source": [
    "from gensim.models import LsiModel\n",
    "\n",
    "lsi = models.LsiModel(corpus_tfidf, id2word=dictionary, num_topics=100)\n",
    "lsi.save('flaskexample/models/lsimodel') "
   ]
  },
  {
   "cell_type": "code",
   "execution_count": 14,
   "metadata": {},
   "outputs": [
    {
     "name": "stderr",
     "output_type": "stream",
     "text": [
      "/anaconda3/lib/python3.6/site-packages/smart_open/smart_open_lib.py:398: UserWarning: This function is deprecated, use smart_open.open instead. See the migration notes for details: https://github.com/RaRe-Technologies/smart_open/blob/master/README.rst#migrating-to-the-new-open-function\n",
      "  'See the migration notes for details: %s' % _MIGRATION_NOTES_URL\n",
      "/anaconda3/lib/python3.6/site-packages/smart_open/smart_open_lib.py:398: UserWarning: This function is deprecated, use smart_open.open instead. See the migration notes for details: https://github.com/RaRe-Technologies/smart_open/blob/master/README.rst#migrating-to-the-new-open-function\n",
      "  'See the migration notes for details: %s' % _MIGRATION_NOTES_URL\n"
     ]
    },
    {
     "data": {
      "text/plain": [
       "[(0,\n",
       "  '-0.166*\"cologn\" + -0.124*\"floral\" + -0.107*\"perfum\" + -0.093*\"man\" + -0.092*\"boyfriend\" + -0.088*\"sexi\" + -0.087*\"rollerbal\" + -0.085*\"vanilla\" + -0.085*\"wear\" + -0.083*\"flowerbomb\"'),\n",
       " (1,\n",
       "  '0.507*\"cologn\" + 0.266*\"man\" + 0.235*\"boyfriend\" + 0.173*\"polo\" + 0.156*\"men\" + 0.155*\"husband\" + 0.148*\"homm\" + 0.143*\"masculin\" + -0.123*\"floral\" + 0.116*\"christma\"')]"
      ]
     },
     "execution_count": 14,
     "metadata": {},
     "output_type": "execute_result"
    }
   ],
   "source": [
    "lsi = models.LsiModel.load('flaskexample/models/lsimodel')\n",
    "lsi.show_topics(num_topics=2, num_words=10, log=False, formatted=True)\n"
   ]
  },
  {
   "cell_type": "code",
   "execution_count": 15,
   "metadata": {},
   "outputs": [
    {
     "name": "stdout",
     "output_type": "stream",
     "text": [
      "(255, 100)\n"
     ]
    },
    {
     "data": {
      "text/html": [
       "<div>\n",
       "<style scoped>\n",
       "    .dataframe tbody tr th:only-of-type {\n",
       "        vertical-align: middle;\n",
       "    }\n",
       "\n",
       "    .dataframe tbody tr th {\n",
       "        vertical-align: top;\n",
       "    }\n",
       "\n",
       "    .dataframe thead th {\n",
       "        text-align: right;\n",
       "    }\n",
       "</style>\n",
       "<table border=\"1\" class=\"dataframe\">\n",
       "  <thead>\n",
       "    <tr style=\"text-align: right;\">\n",
       "      <th></th>\n",
       "      <th>0</th>\n",
       "      <th>1</th>\n",
       "      <th>2</th>\n",
       "      <th>3</th>\n",
       "      <th>4</th>\n",
       "      <th>5</th>\n",
       "      <th>6</th>\n",
       "      <th>7</th>\n",
       "      <th>8</th>\n",
       "      <th>9</th>\n",
       "      <th>...</th>\n",
       "      <th>90</th>\n",
       "      <th>91</th>\n",
       "      <th>92</th>\n",
       "      <th>93</th>\n",
       "      <th>94</th>\n",
       "      <th>95</th>\n",
       "      <th>96</th>\n",
       "      <th>97</th>\n",
       "      <th>98</th>\n",
       "      <th>99</th>\n",
       "    </tr>\n",
       "    <tr>\n",
       "      <th>name</th>\n",
       "      <th></th>\n",
       "      <th></th>\n",
       "      <th></th>\n",
       "      <th></th>\n",
       "      <th></th>\n",
       "      <th></th>\n",
       "      <th></th>\n",
       "      <th></th>\n",
       "      <th></th>\n",
       "      <th></th>\n",
       "      <th></th>\n",
       "      <th></th>\n",
       "      <th></th>\n",
       "      <th></th>\n",
       "      <th></th>\n",
       "      <th></th>\n",
       "      <th></th>\n",
       "      <th></th>\n",
       "      <th></th>\n",
       "      <th></th>\n",
       "      <th></th>\n",
       "    </tr>\n",
       "  </thead>\n",
       "  <tbody>\n",
       "    <tr>\n",
       "      <th>1 Million</th>\n",
       "      <td>-0.469914</td>\n",
       "      <td>0.429129</td>\n",
       "      <td>0.010879</td>\n",
       "      <td>0.005836</td>\n",
       "      <td>-0.016520</td>\n",
       "      <td>-0.057047</td>\n",
       "      <td>0.027340</td>\n",
       "      <td>0.016567</td>\n",
       "      <td>0.000308</td>\n",
       "      <td>0.060164</td>\n",
       "      <td>...</td>\n",
       "      <td>0.000788</td>\n",
       "      <td>0.015144</td>\n",
       "      <td>0.025692</td>\n",
       "      <td>0.026130</td>\n",
       "      <td>0.001525</td>\n",
       "      <td>-0.017042</td>\n",
       "      <td>-0.032255</td>\n",
       "      <td>-0.044291</td>\n",
       "      <td>-0.015056</td>\n",
       "      <td>0.032069</td>\n",
       "    </tr>\n",
       "    <tr>\n",
       "      <th>1 Million Lucky</th>\n",
       "      <td>-0.183438</td>\n",
       "      <td>0.180727</td>\n",
       "      <td>0.008531</td>\n",
       "      <td>-0.001544</td>\n",
       "      <td>-0.011745</td>\n",
       "      <td>-0.008588</td>\n",
       "      <td>0.014114</td>\n",
       "      <td>0.006790</td>\n",
       "      <td>-0.007634</td>\n",
       "      <td>0.014258</td>\n",
       "      <td>...</td>\n",
       "      <td>-0.146239</td>\n",
       "      <td>0.143173</td>\n",
       "      <td>-0.066091</td>\n",
       "      <td>-0.071018</td>\n",
       "      <td>-0.010466</td>\n",
       "      <td>-0.119574</td>\n",
       "      <td>0.102747</td>\n",
       "      <td>0.055805</td>\n",
       "      <td>-0.163496</td>\n",
       "      <td>0.044886</td>\n",
       "    </tr>\n",
       "    <tr>\n",
       "      <th>212</th>\n",
       "      <td>-0.152107</td>\n",
       "      <td>-0.024145</td>\n",
       "      <td>-0.002433</td>\n",
       "      <td>-0.015369</td>\n",
       "      <td>-0.027649</td>\n",
       "      <td>-0.005690</td>\n",
       "      <td>0.012132</td>\n",
       "      <td>-0.026884</td>\n",
       "      <td>0.011333</td>\n",
       "      <td>-0.008147</td>\n",
       "      <td>...</td>\n",
       "      <td>-0.040183</td>\n",
       "      <td>0.092698</td>\n",
       "      <td>-0.002633</td>\n",
       "      <td>-0.054884</td>\n",
       "      <td>0.071075</td>\n",
       "      <td>0.025962</td>\n",
       "      <td>-0.044496</td>\n",
       "      <td>0.103815</td>\n",
       "      <td>0.028886</td>\n",
       "      <td>-0.103164</td>\n",
       "    </tr>\n",
       "  </tbody>\n",
       "</table>\n",
       "<p>3 rows × 100 columns</p>\n",
       "</div>"
      ],
      "text/plain": [
       "                       0         1         2         3         4         5   \\\n",
       "name                                                                          \n",
       "1 Million       -0.469914  0.429129  0.010879  0.005836 -0.016520 -0.057047   \n",
       "1 Million Lucky -0.183438  0.180727  0.008531 -0.001544 -0.011745 -0.008588   \n",
       "212             -0.152107 -0.024145 -0.002433 -0.015369 -0.027649 -0.005690   \n",
       "\n",
       "                       6         7         8         9     ...           90  \\\n",
       "name                                                       ...                \n",
       "1 Million        0.027340  0.016567  0.000308  0.060164    ...     0.000788   \n",
       "1 Million Lucky  0.014114  0.006790 -0.007634  0.014258    ...    -0.146239   \n",
       "212              0.012132 -0.026884  0.011333 -0.008147    ...    -0.040183   \n",
       "\n",
       "                       91        92        93        94        95        96  \\\n",
       "name                                                                          \n",
       "1 Million        0.015144  0.025692  0.026130  0.001525 -0.017042 -0.032255   \n",
       "1 Million Lucky  0.143173 -0.066091 -0.071018 -0.010466 -0.119574  0.102747   \n",
       "212              0.092698 -0.002633 -0.054884  0.071075  0.025962 -0.044496   \n",
       "\n",
       "                       97        98        99  \n",
       "name                                           \n",
       "1 Million       -0.044291 -0.015056  0.032069  \n",
       "1 Million Lucky  0.055805 -0.163496  0.044886  \n",
       "212              0.103815  0.028886 -0.103164  \n",
       "\n",
       "[3 rows x 100 columns]"
      ]
     },
     "execution_count": 15,
     "metadata": {},
     "output_type": "execute_result"
    }
   ],
   "source": [
    "vector = lsi[corpus_tfidf]\n",
    "lsivector = gensim.matutils.corpus2csc(vector)\n",
    "lsivector = lsivector.T.toarray()\n",
    "lsi_matrix = pd.DataFrame(lsivector, index=df_review['name'])\n",
    "print(lsi_matrix.shape)\n",
    "lsi_matrix.head(3)\n"
   ]
  },
  {
   "cell_type": "code",
   "execution_count": 16,
   "metadata": {},
   "outputs": [],
   "source": [
    "# save the lsi matrix\n",
    "pickle.dump(lsi_matrix, open(\"flaskexample/models/lsi_embeddings.pkl\", \"wb\"))"
   ]
  },
  {
   "cell_type": "code",
   "execution_count": 17,
   "metadata": {},
   "outputs": [
    {
     "data": {
      "text/html": [
       "<div>\n",
       "<style scoped>\n",
       "    .dataframe tbody tr th:only-of-type {\n",
       "        vertical-align: middle;\n",
       "    }\n",
       "\n",
       "    .dataframe tbody tr th {\n",
       "        vertical-align: top;\n",
       "    }\n",
       "\n",
       "    .dataframe thead th {\n",
       "        text-align: right;\n",
       "    }\n",
       "</style>\n",
       "<table border=\"1\" class=\"dataframe\">\n",
       "  <thead>\n",
       "    <tr style=\"text-align: right;\">\n",
       "      <th></th>\n",
       "      <th>0</th>\n",
       "      <th>1</th>\n",
       "      <th>2</th>\n",
       "      <th>3</th>\n",
       "      <th>4</th>\n",
       "      <th>5</th>\n",
       "      <th>6</th>\n",
       "      <th>7</th>\n",
       "      <th>8</th>\n",
       "      <th>9</th>\n",
       "      <th>...</th>\n",
       "      <th>90</th>\n",
       "      <th>91</th>\n",
       "      <th>92</th>\n",
       "      <th>93</th>\n",
       "      <th>94</th>\n",
       "      <th>95</th>\n",
       "      <th>96</th>\n",
       "      <th>97</th>\n",
       "      <th>98</th>\n",
       "      <th>99</th>\n",
       "    </tr>\n",
       "  </thead>\n",
       "  <tbody>\n",
       "    <tr>\n",
       "      <th>0</th>\n",
       "      <td>-0.072951</td>\n",
       "      <td>-0.052694</td>\n",
       "      <td>-0.004479</td>\n",
       "      <td>-0.014586</td>\n",
       "      <td>0.032088</td>\n",
       "      <td>0.01571</td>\n",
       "      <td>0.017012</td>\n",
       "      <td>-0.04619</td>\n",
       "      <td>-0.057551</td>\n",
       "      <td>0.016297</td>\n",
       "      <td>...</td>\n",
       "      <td>-0.017886</td>\n",
       "      <td>0.019205</td>\n",
       "      <td>0.05236</td>\n",
       "      <td>-0.015531</td>\n",
       "      <td>-0.018121</td>\n",
       "      <td>0.006101</td>\n",
       "      <td>-0.022618</td>\n",
       "      <td>0.034547</td>\n",
       "      <td>0.01316</td>\n",
       "      <td>0.065428</td>\n",
       "    </tr>\n",
       "  </tbody>\n",
       "</table>\n",
       "<p>1 rows × 100 columns</p>\n",
       "</div>"
      ],
      "text/plain": [
       "         0         1         2         3         4        5         6   \\\n",
       "0 -0.072951 -0.052694 -0.004479 -0.014586  0.032088  0.01571  0.017012   \n",
       "\n",
       "        7         8         9     ...           90        91       92  \\\n",
       "0 -0.04619 -0.057551  0.016297    ...    -0.017886  0.019205  0.05236   \n",
       "\n",
       "         93        94        95        96        97       98        99  \n",
       "0 -0.015531 -0.018121  0.006101 -0.022618  0.034547  0.01316  0.065428  \n",
       "\n",
       "[1 rows x 100 columns]"
      ]
     },
     "execution_count": 17,
     "metadata": {},
     "output_type": "execute_result"
    }
   ],
   "source": [
    "#vecterization test\n",
    "test = 'This is a test. I like a lot of flowers'\n",
    "pre_test = preprocessText(test)\n",
    "test_corpus = [dictionary.doc2bow(pre_test.split())]\n",
    "test_corpus_tfidf = tfidf[test_corpus]\n",
    "test_vector = lsi[test_corpus_tfidf]\n",
    "test_vector = gensim.matutils.corpus2csc(test_vector)\n",
    "test_vector = test_vector.T.toarray()\n",
    "test_df = pd.DataFrame(test_vector)\n",
    "test_df"
   ]
  },
  {
   "cell_type": "code",
   "execution_count": null,
   "metadata": {},
   "outputs": [],
   "source": []
  },
  {
   "cell_type": "code",
   "execution_count": null,
   "metadata": {},
   "outputs": [],
   "source": []
  },
  {
   "cell_type": "code",
   "execution_count": null,
   "metadata": {},
   "outputs": [],
   "source": []
  }
 ],
 "metadata": {
  "kernelspec": {
   "display_name": "Python 3",
   "language": "python",
   "name": "python3"
  },
  "language_info": {
   "codemirror_mode": {
    "name": "ipython",
    "version": 3
   },
   "file_extension": ".py",
   "mimetype": "text/x-python",
   "name": "python",
   "nbconvert_exporter": "python",
   "pygments_lexer": "ipython3",
   "version": "3.6.7"
  }
 },
 "nbformat": 4,
 "nbformat_minor": 2
}
