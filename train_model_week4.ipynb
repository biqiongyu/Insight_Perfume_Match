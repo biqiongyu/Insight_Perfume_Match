{
 "cells": [
  {
   "cell_type": "code",
   "execution_count": 1,
   "metadata": {},
   "outputs": [],
   "source": [
    "#! pip install gensim\n",
    "import re\n",
    "import pandas as pd\n",
    "import numpy as np\n",
    "import matplotlib.pyplot as plt\n",
    "import seaborn as sns\n",
    "import pickle\n",
    "from nltk.tokenize import word_tokenize\n",
    "from string import punctuation \n",
    "from nltk.corpus import stopwords\n",
    "from nltk.stem import SnowballStemmer\n",
    "from nltk.tokenize import RegexpTokenizer\n",
    "import gensim\n",
    "from gensim.test.utils import get_tmpfile\n"
   ]
  },
  {
   "cell_type": "code",
   "execution_count": 2,
   "metadata": {},
   "outputs": [],
   "source": [
    "def preprocessText(text):\n",
    "            \n",
    "        stops = stopwords.words(\"english\")\n",
    "        #add more stopwords in this particular case\n",
    "        stops.extend(['love','like','hate','amazing','favorite','dislike',\"don't\",'awesome','great','good','bad','horrible','excellent'])\n",
    "        stemmer = SnowballStemmer('english')\n",
    "\n",
    "        text = str(text).lower() # convert text to lower-case\n",
    "        text = word_tokenize(text) # remove repeated characters (helloooooooo into hello)    \n",
    "     \n",
    "        stemmed_words = [stemmer.stem(word) for word in text]\n",
    "        text = \" \".join(stemmed_words) # word stemmer\n",
    "    \n",
    "        tokenizer = RegexpTokenizer(r'\\w+') #tokenize\n",
    "        text = tokenizer.tokenize(text)\n",
    "    \n",
    "        stop_words = [word for word in text if word not in stops]\n",
    "        text = \" \".join(stop_words)\n",
    "   \n",
    "        return text"
   ]
  },
  {
   "cell_type": "code",
   "execution_count": 3,
   "metadata": {},
   "outputs": [],
   "source": [
    "#Text preprocess \n",
    "df_review = pd.read_csv('flaskexample/data/fragrance_data.csv')\n",
    "df_review['preprocess_text_tot'] = df_review['text_tot'].apply(lambda x: preprocessText(x))"
   ]
  },
  {
   "cell_type": "markdown",
   "metadata": {},
   "source": [
    "# Use doc2vec"
   ]
  },
  {
   "cell_type": "code",
   "execution_count": 4,
   "metadata": {},
   "outputs": [],
   "source": [
    "# build vocabuary using doc2vec\n",
    "documents = df_review['preprocess_text_tot']\n",
    "formatted_documents = [gensim.models.doc2vec.TaggedDocument(doc, [i]) for i, doc in enumerate(documents)]\n",
    "\n",
    "model = gensim.models.doc2vec.Doc2Vec(vector_size=200, min_count=3, epochs=200, window=10, dm=1,workers=1,alpha = 0.01)\n",
    "model.build_vocab(formatted_documents)"
   ]
  },
  {
   "cell_type": "code",
   "execution_count": 5,
   "metadata": {},
   "outputs": [
    {
     "name": "stdout",
     "output_type": "stream",
     "text": [
      "CPU times: user 7min 59s, sys: 4.05 s, total: 8min 3s\n",
      "Wall time: 8min 5s\n"
     ]
    }
   ],
   "source": [
    "# train model\n",
    "%time model.train(formatted_documents, total_examples=model.corpus_count, epochs=model.epochs)\n"
   ]
  },
  {
   "cell_type": "code",
   "execution_count": 6,
   "metadata": {},
   "outputs": [
    {
     "data": {
      "text/plain": [
       "array([-1.6599757e-03,  4.7895854e-04, -1.1084810e-03, -6.2570791e-05,\n",
       "       -3.4315092e-04,  9.3989569e-04, -1.1118054e-03, -1.0570225e-03,\n",
       "        3.2591397e-05,  1.4691929e-03, -5.7970575e-04,  6.6327269e-04,\n",
       "       -2.1968475e-03, -4.3763238e-04,  1.1705793e-03, -1.2900918e-03,\n",
       "        1.9383549e-03, -1.7033012e-03, -3.2131435e-04,  1.2948684e-03,\n",
       "       -1.8146278e-03, -4.2696780e-04,  1.5852125e-03,  1.9819664e-03,\n",
       "       -2.0441697e-03, -7.8427262e-04, -1.5735693e-03,  7.1230228e-04,\n",
       "        1.6297232e-03, -1.7283623e-04,  1.4628111e-03,  1.7514838e-03,\n",
       "       -1.6147085e-03, -1.9867991e-03,  4.8428398e-04, -1.9696024e-03,\n",
       "       -2.3769338e-03, -1.5698755e-03, -3.3900543e-04,  1.9324881e-03,\n",
       "       -1.8121253e-03,  8.4625330e-04,  2.0443310e-03,  4.3857360e-04,\n",
       "        1.9232263e-03, -1.8398515e-03, -1.7525350e-03, -1.7357144e-03,\n",
       "        6.6767732e-04, -1.5929957e-03,  1.9157456e-03,  1.1282664e-03,\n",
       "       -1.2679981e-03,  2.2083309e-03, -4.4496828e-05, -4.9189851e-04,\n",
       "        1.1004161e-03,  1.3648665e-03,  1.5069852e-03, -4.3226482e-04,\n",
       "        6.5276481e-04, -1.6439195e-03, -1.1448789e-03, -2.0711860e-03,\n",
       "       -4.2828970e-04, -1.7871601e-03, -2.2403921e-03,  2.1811363e-03,\n",
       "       -4.3806288e-04, -1.7482772e-03,  1.8507602e-03, -4.0577634e-04,\n",
       "       -8.8146562e-04,  1.4683719e-03, -1.1102936e-03,  1.3722391e-03,\n",
       "       -5.1446521e-05, -2.1492727e-03,  6.7991967e-04, -2.0859594e-04,\n",
       "       -1.6824654e-03,  1.8633024e-03,  1.4278605e-03,  4.3345956e-04,\n",
       "        4.2264556e-04, -9.9029264e-04, -2.2906240e-03,  3.5174409e-05,\n",
       "       -2.1186110e-03,  3.5870506e-04,  1.9872721e-04, -2.4540261e-03,\n",
       "        1.5963577e-03,  4.5490226e-05,  4.5883917e-04, -9.5189677e-04,\n",
       "        1.5385759e-03,  1.1354866e-03, -1.3649059e-03,  8.6013030e-04,\n",
       "       -1.0165465e-03, -1.6534090e-04, -4.8524790e-04, -4.5773081e-04,\n",
       "       -2.2462467e-03,  3.1263402e-04, -6.8130094e-04,  1.0464081e-05,\n",
       "       -1.7677165e-03,  1.0455688e-03, -1.8201914e-03,  1.4843442e-03,\n",
       "       -6.5695733e-04,  2.1408615e-03,  1.4525616e-03, -9.5610938e-04,\n",
       "       -1.3584683e-03, -9.8287768e-05,  1.6236947e-03, -2.1291068e-03,\n",
       "       -1.6686528e-03,  5.5877265e-04,  1.4404083e-03, -7.7813654e-04,\n",
       "       -7.3788583e-04, -2.6795411e-04, -9.0586115e-04,  1.5877458e-03,\n",
       "       -1.5327070e-03,  1.9959281e-03, -1.8390197e-03,  1.8949726e-03,\n",
       "       -2.1914020e-03, -1.0223308e-03, -8.0036517e-04,  2.4367932e-03,\n",
       "        1.7795434e-03, -1.6763876e-03, -1.4985024e-03, -9.6347090e-04,\n",
       "        1.3982049e-03,  1.0808680e-03, -2.0948523e-03,  1.0978490e-03,\n",
       "       -1.8625162e-03,  1.5757652e-04, -1.3046985e-03,  3.1989528e-04,\n",
       "        1.5502955e-03,  1.6386400e-03,  1.9557115e-03,  1.0470825e-03,\n",
       "       -2.4865675e-03, -1.3709097e-04, -1.5004727e-03,  1.8251920e-03,\n",
       "        4.5828367e-04,  1.4831033e-03,  2.4326753e-03,  1.1812036e-03,\n",
       "        2.3678748e-04, -1.1601336e-03, -2.3632646e-03, -2.0658050e-03,\n",
       "       -2.3993966e-03,  6.9493597e-04,  9.6943363e-04,  2.0612932e-03,\n",
       "        5.7190086e-04,  2.1584400e-03,  1.6326820e-03,  1.8886934e-03,\n",
       "        4.4712969e-04, -4.2726405e-04, -2.4340053e-03, -7.0215965e-04,\n",
       "        1.5680252e-03, -7.6450076e-04, -1.3094814e-03,  2.3082548e-03,\n",
       "        1.8532944e-03, -1.0872314e-03,  8.5960951e-04, -6.5647362e-04,\n",
       "       -1.4967909e-03,  1.2120570e-03,  1.0738996e-03,  8.2854804e-04,\n",
       "        1.7281944e-03,  1.6732436e-03, -1.7945506e-03, -4.8206828e-05,\n",
       "       -1.8281495e-03,  1.6402525e-03,  4.6970841e-04, -8.1158403e-05,\n",
       "       -1.6332434e-03, -6.0841069e-04,  1.7856872e-03,  2.3354995e-03],\n",
       "      dtype=float32)"
      ]
     },
     "execution_count": 6,
     "metadata": {},
     "output_type": "execute_result"
    }
   ],
   "source": [
    "#test\n",
    "inputmessage = \"I love sea\"\n",
    "vector = model.infer_vector(inputmessage.split(\" \"),epochs=10)\n",
    "vector"
   ]
  },
  {
   "cell_type": "code",
   "execution_count": 7,
   "metadata": {},
   "outputs": [
    {
     "name": "stderr",
     "output_type": "stream",
     "text": [
      "/anaconda3/lib/python3.6/site-packages/smart_open/smart_open_lib.py:398: UserWarning: This function is deprecated, use smart_open.open instead. See the migration notes for details: https://github.com/RaRe-Technologies/smart_open/blob/master/README.rst#migrating-to-the-new-open-function\n",
      "  'See the migration notes for details: %s' % _MIGRATION_NOTES_URL\n",
      "/anaconda3/lib/python3.6/site-packages/smart_open/smart_open_lib.py:398: UserWarning: This function is deprecated, use smart_open.open instead. See the migration notes for details: https://github.com/RaRe-Technologies/smart_open/blob/master/README.rst#migrating-to-the-new-open-function\n",
      "  'See the migration notes for details: %s' % _MIGRATION_NOTES_URL\n"
     ]
    }
   ],
   "source": [
    "model.save(\"flaskexample/models/doc2vec_model\")\n",
    "model = gensim.models.doc2vec.Doc2Vec.load(\"flaskexample/models/doc2vec_model\")\n"
   ]
  },
  {
   "cell_type": "code",
   "execution_count": 8,
   "metadata": {},
   "outputs": [
    {
     "name": "stdout",
     "output_type": "stream",
     "text": [
      "(255, 200)\n"
     ]
    },
    {
     "data": {
      "text/html": [
       "<div>\n",
       "<style scoped>\n",
       "    .dataframe tbody tr th:only-of-type {\n",
       "        vertical-align: middle;\n",
       "    }\n",
       "\n",
       "    .dataframe tbody tr th {\n",
       "        vertical-align: top;\n",
       "    }\n",
       "\n",
       "    .dataframe thead th {\n",
       "        text-align: right;\n",
       "    }\n",
       "</style>\n",
       "<table border=\"1\" class=\"dataframe\">\n",
       "  <thead>\n",
       "    <tr style=\"text-align: right;\">\n",
       "      <th></th>\n",
       "      <th>0</th>\n",
       "      <th>1</th>\n",
       "      <th>2</th>\n",
       "      <th>3</th>\n",
       "      <th>4</th>\n",
       "      <th>5</th>\n",
       "      <th>6</th>\n",
       "      <th>7</th>\n",
       "      <th>8</th>\n",
       "      <th>9</th>\n",
       "      <th>...</th>\n",
       "      <th>190</th>\n",
       "      <th>191</th>\n",
       "      <th>192</th>\n",
       "      <th>193</th>\n",
       "      <th>194</th>\n",
       "      <th>195</th>\n",
       "      <th>196</th>\n",
       "      <th>197</th>\n",
       "      <th>198</th>\n",
       "      <th>199</th>\n",
       "    </tr>\n",
       "    <tr>\n",
       "      <th>name</th>\n",
       "      <th></th>\n",
       "      <th></th>\n",
       "      <th></th>\n",
       "      <th></th>\n",
       "      <th></th>\n",
       "      <th></th>\n",
       "      <th></th>\n",
       "      <th></th>\n",
       "      <th></th>\n",
       "      <th></th>\n",
       "      <th></th>\n",
       "      <th></th>\n",
       "      <th></th>\n",
       "      <th></th>\n",
       "      <th></th>\n",
       "      <th></th>\n",
       "      <th></th>\n",
       "      <th></th>\n",
       "      <th></th>\n",
       "      <th></th>\n",
       "      <th></th>\n",
       "    </tr>\n",
       "  </thead>\n",
       "  <tbody>\n",
       "    <tr>\n",
       "      <th>1 Million</th>\n",
       "      <td>-0.562577</td>\n",
       "      <td>-0.519505</td>\n",
       "      <td>0.695660</td>\n",
       "      <td>-0.477294</td>\n",
       "      <td>-0.028094</td>\n",
       "      <td>0.697598</td>\n",
       "      <td>1.437936</td>\n",
       "      <td>1.347560</td>\n",
       "      <td>0.828583</td>\n",
       "      <td>-1.434612</td>\n",
       "      <td>...</td>\n",
       "      <td>-0.040419</td>\n",
       "      <td>-0.417882</td>\n",
       "      <td>0.084524</td>\n",
       "      <td>0.174070</td>\n",
       "      <td>0.299372</td>\n",
       "      <td>-0.522378</td>\n",
       "      <td>0.814809</td>\n",
       "      <td>-0.515870</td>\n",
       "      <td>0.260511</td>\n",
       "      <td>0.419477</td>\n",
       "    </tr>\n",
       "    <tr>\n",
       "      <th>1 Million Lucky</th>\n",
       "      <td>0.101255</td>\n",
       "      <td>-0.351903</td>\n",
       "      <td>-0.137840</td>\n",
       "      <td>-0.381925</td>\n",
       "      <td>-0.232740</td>\n",
       "      <td>0.147860</td>\n",
       "      <td>-0.423483</td>\n",
       "      <td>0.858232</td>\n",
       "      <td>0.279154</td>\n",
       "      <td>-0.050326</td>\n",
       "      <td>...</td>\n",
       "      <td>-0.375922</td>\n",
       "      <td>0.444531</td>\n",
       "      <td>-0.260744</td>\n",
       "      <td>0.787415</td>\n",
       "      <td>0.949675</td>\n",
       "      <td>-0.640151</td>\n",
       "      <td>0.988527</td>\n",
       "      <td>-0.061021</td>\n",
       "      <td>0.105629</td>\n",
       "      <td>-1.264991</td>\n",
       "    </tr>\n",
       "    <tr>\n",
       "      <th>212</th>\n",
       "      <td>-1.395752</td>\n",
       "      <td>-1.745973</td>\n",
       "      <td>0.674756</td>\n",
       "      <td>0.623539</td>\n",
       "      <td>-0.611494</td>\n",
       "      <td>1.273818</td>\n",
       "      <td>0.527928</td>\n",
       "      <td>-1.231759</td>\n",
       "      <td>-1.320426</td>\n",
       "      <td>-0.839876</td>\n",
       "      <td>...</td>\n",
       "      <td>-0.229858</td>\n",
       "      <td>0.171408</td>\n",
       "      <td>-1.194211</td>\n",
       "      <td>1.206744</td>\n",
       "      <td>0.329017</td>\n",
       "      <td>-0.751830</td>\n",
       "      <td>1.685440</td>\n",
       "      <td>0.255388</td>\n",
       "      <td>-0.351774</td>\n",
       "      <td>-0.421122</td>\n",
       "    </tr>\n",
       "  </tbody>\n",
       "</table>\n",
       "<p>3 rows × 200 columns</p>\n",
       "</div>"
      ],
      "text/plain": [
       "                      0         1         2         3         4         5    \\\n",
       "name                                                                          \n",
       "1 Million       -0.562577 -0.519505  0.695660 -0.477294 -0.028094  0.697598   \n",
       "1 Million Lucky  0.101255 -0.351903 -0.137840 -0.381925 -0.232740  0.147860   \n",
       "212             -1.395752 -1.745973  0.674756  0.623539 -0.611494  1.273818   \n",
       "\n",
       "                      6         7         8         9      ...          190  \\\n",
       "name                                                       ...                \n",
       "1 Million        1.437936  1.347560  0.828583 -1.434612    ...    -0.040419   \n",
       "1 Million Lucky -0.423483  0.858232  0.279154 -0.050326    ...    -0.375922   \n",
       "212              0.527928 -1.231759 -1.320426 -0.839876    ...    -0.229858   \n",
       "\n",
       "                      191       192       193       194       195       196  \\\n",
       "name                                                                          \n",
       "1 Million       -0.417882  0.084524  0.174070  0.299372 -0.522378  0.814809   \n",
       "1 Million Lucky  0.444531 -0.260744  0.787415  0.949675 -0.640151  0.988527   \n",
       "212              0.171408 -1.194211  1.206744  0.329017 -0.751830  1.685440   \n",
       "\n",
       "                      197       198       199  \n",
       "name                                           \n",
       "1 Million       -0.515870  0.260511  0.419477  \n",
       "1 Million Lucky -0.061021  0.105629 -1.264991  \n",
       "212              0.255388 -0.351774 -0.421122  \n",
       "\n",
       "[3 rows x 200 columns]"
      ]
     },
     "execution_count": 8,
     "metadata": {},
     "output_type": "execute_result"
    }
   ],
   "source": [
    "# build doc2vec matrix\n",
    "doctovec_feature_matrix = pd.DataFrame(model.docvecs.vectors_docs, index=df_review['name'])\n",
    "print(doctovec_feature_matrix.shape)\n",
    "doctovec_feature_matrix.head(3)\n"
   ]
  },
  {
   "cell_type": "code",
   "execution_count": 9,
   "metadata": {},
   "outputs": [],
   "source": [
    "pickle.dump(doctovec_feature_matrix, open(\"flaskexample/models/doctovec_embeddings.pkl\", \"wb\"))"
   ]
  },
  {
   "cell_type": "markdown",
   "metadata": {},
   "source": [
    "# Use LSA, TF-IDF"
   ]
  },
  {
   "cell_type": "code",
   "execution_count": 10,
   "metadata": {},
   "outputs": [
    {
     "name": "stderr",
     "output_type": "stream",
     "text": [
      "/anaconda3/lib/python3.6/site-packages/smart_open/smart_open_lib.py:398: UserWarning: This function is deprecated, use smart_open.open instead. See the migration notes for details: https://github.com/RaRe-Technologies/smart_open/blob/master/README.rst#migrating-to-the-new-open-function\n",
      "  'See the migration notes for details: %s' % _MIGRATION_NOTES_URL\n"
     ]
    }
   ],
   "source": [
    "#Use gensim\n",
    "# create dictionary\n",
    "from gensim import corpora, models\n",
    "dictionary = corpora.Dictionary(df_review['preprocess_text_tot'].str.split())\n",
    "dictionary.save('flaskexample/models/dictionary')"
   ]
  },
  {
   "cell_type": "code",
   "execution_count": 11,
   "metadata": {},
   "outputs": [],
   "source": [
    "#create corpus\n",
    "corpus = [dictionary.doc2bow(text) for text in df_review['preprocess_text_tot'].str.split()]"
   ]
  },
  {
   "cell_type": "code",
   "execution_count": 12,
   "metadata": {},
   "outputs": [
    {
     "name": "stderr",
     "output_type": "stream",
     "text": [
      "/anaconda3/lib/python3.6/site-packages/smart_open/smart_open_lib.py:398: UserWarning: This function is deprecated, use smart_open.open instead. See the migration notes for details: https://github.com/RaRe-Technologies/smart_open/blob/master/README.rst#migrating-to-the-new-open-function\n",
      "  'See the migration notes for details: %s' % _MIGRATION_NOTES_URL\n"
     ]
    }
   ],
   "source": [
    "#create TF-IDF vectors\n",
    "tfidf = models.TfidfModel(corpus) # fit model\n",
    "corpus_tfidf = tfidf[corpus]\n",
    "tfidf.save('flaskexample/models/tfidf')  # same for tfidf, lda, ..."
   ]
  },
  {
   "cell_type": "code",
   "execution_count": 13,
   "metadata": {},
   "outputs": [
    {
     "name": "stderr",
     "output_type": "stream",
     "text": [
      "/anaconda3/lib/python3.6/site-packages/smart_open/smart_open_lib.py:398: UserWarning: This function is deprecated, use smart_open.open instead. See the migration notes for details: https://github.com/RaRe-Technologies/smart_open/blob/master/README.rst#migrating-to-the-new-open-function\n",
      "  'See the migration notes for details: %s' % _MIGRATION_NOTES_URL\n",
      "/anaconda3/lib/python3.6/site-packages/smart_open/smart_open_lib.py:398: UserWarning: This function is deprecated, use smart_open.open instead. See the migration notes for details: https://github.com/RaRe-Technologies/smart_open/blob/master/README.rst#migrating-to-the-new-open-function\n",
      "  'See the migration notes for details: %s' % _MIGRATION_NOTES_URL\n"
     ]
    }
   ],
   "source": [
    "from gensim.models import LsiModel\n",
    "\n",
    "lsi = models.LsiModel(corpus_tfidf, id2word=dictionary, num_topics=200)\n",
    "lsi.save('flaskexample/models/lsimodel') "
   ]
  },
  {
   "cell_type": "code",
   "execution_count": 14,
   "metadata": {},
   "outputs": [
    {
     "name": "stderr",
     "output_type": "stream",
     "text": [
      "/anaconda3/lib/python3.6/site-packages/smart_open/smart_open_lib.py:398: UserWarning: This function is deprecated, use smart_open.open instead. See the migration notes for details: https://github.com/RaRe-Technologies/smart_open/blob/master/README.rst#migrating-to-the-new-open-function\n",
      "  'See the migration notes for details: %s' % _MIGRATION_NOTES_URL\n",
      "/anaconda3/lib/python3.6/site-packages/smart_open/smart_open_lib.py:398: UserWarning: This function is deprecated, use smart_open.open instead. See the migration notes for details: https://github.com/RaRe-Technologies/smart_open/blob/master/README.rst#migrating-to-the-new-open-function\n",
      "  'See the migration notes for details: %s' % _MIGRATION_NOTES_URL\n"
     ]
    },
    {
     "data": {
      "text/plain": [
       "[(0,\n",
       "  '0.169*\"cologn\" + 0.110*\"floral\" + 0.108*\"perfum\" + 0.095*\"man\" + 0.094*\"boyfriend\" + 0.090*\"sexi\" + 0.088*\"rollerbal\" + 0.086*\"vanilla\" + 0.085*\"flowerbomb\" + 0.081*\"chanel\"'),\n",
       " (1,\n",
       "  '0.507*\"cologn\" + 0.266*\"man\" + 0.235*\"boyfriend\" + 0.175*\"polo\" + 0.155*\"husband\" + 0.155*\"men\" + 0.151*\"homm\" + 0.144*\"masculin\" + 0.116*\"dad\" + 0.116*\"christma\"')]"
      ]
     },
     "execution_count": 14,
     "metadata": {},
     "output_type": "execute_result"
    }
   ],
   "source": [
    "lsi = models.LsiModel.load('flaskexample/models/lsimodel')\n",
    "lsi.show_topics(num_topics=2, num_words=10, log=False, formatted=True)\n"
   ]
  },
  {
   "cell_type": "code",
   "execution_count": 15,
   "metadata": {},
   "outputs": [
    {
     "name": "stdout",
     "output_type": "stream",
     "text": [
      "(255, 200)\n"
     ]
    },
    {
     "data": {
      "text/html": [
       "<div>\n",
       "<style scoped>\n",
       "    .dataframe tbody tr th:only-of-type {\n",
       "        vertical-align: middle;\n",
       "    }\n",
       "\n",
       "    .dataframe tbody tr th {\n",
       "        vertical-align: top;\n",
       "    }\n",
       "\n",
       "    .dataframe thead th {\n",
       "        text-align: right;\n",
       "    }\n",
       "</style>\n",
       "<table border=\"1\" class=\"dataframe\">\n",
       "  <thead>\n",
       "    <tr style=\"text-align: right;\">\n",
       "      <th></th>\n",
       "      <th>0</th>\n",
       "      <th>1</th>\n",
       "      <th>2</th>\n",
       "      <th>3</th>\n",
       "      <th>4</th>\n",
       "      <th>5</th>\n",
       "      <th>6</th>\n",
       "      <th>7</th>\n",
       "      <th>8</th>\n",
       "      <th>9</th>\n",
       "      <th>...</th>\n",
       "      <th>190</th>\n",
       "      <th>191</th>\n",
       "      <th>192</th>\n",
       "      <th>193</th>\n",
       "      <th>194</th>\n",
       "      <th>195</th>\n",
       "      <th>196</th>\n",
       "      <th>197</th>\n",
       "      <th>198</th>\n",
       "      <th>199</th>\n",
       "    </tr>\n",
       "    <tr>\n",
       "      <th>name</th>\n",
       "      <th></th>\n",
       "      <th></th>\n",
       "      <th></th>\n",
       "      <th></th>\n",
       "      <th></th>\n",
       "      <th></th>\n",
       "      <th></th>\n",
       "      <th></th>\n",
       "      <th></th>\n",
       "      <th></th>\n",
       "      <th></th>\n",
       "      <th></th>\n",
       "      <th></th>\n",
       "      <th></th>\n",
       "      <th></th>\n",
       "      <th></th>\n",
       "      <th></th>\n",
       "      <th></th>\n",
       "      <th></th>\n",
       "      <th></th>\n",
       "      <th></th>\n",
       "    </tr>\n",
       "  </thead>\n",
       "  <tbody>\n",
       "    <tr>\n",
       "      <th>1 Million</th>\n",
       "      <td>0.467838</td>\n",
       "      <td>0.428484</td>\n",
       "      <td>-0.009549</td>\n",
       "      <td>0.003317</td>\n",
       "      <td>-0.015806</td>\n",
       "      <td>0.055306</td>\n",
       "      <td>-0.033424</td>\n",
       "      <td>0.010779</td>\n",
       "      <td>0.003014</td>\n",
       "      <td>-0.064551</td>\n",
       "      <td>...</td>\n",
       "      <td>0.007689</td>\n",
       "      <td>0.052416</td>\n",
       "      <td>0.027065</td>\n",
       "      <td>-0.093919</td>\n",
       "      <td>-0.055425</td>\n",
       "      <td>-0.000665</td>\n",
       "      <td>0.024111</td>\n",
       "      <td>0.044285</td>\n",
       "      <td>-0.065849</td>\n",
       "      <td>-0.044501</td>\n",
       "    </tr>\n",
       "    <tr>\n",
       "      <th>1 Million Lucky</th>\n",
       "      <td>0.183083</td>\n",
       "      <td>0.179630</td>\n",
       "      <td>-0.007974</td>\n",
       "      <td>-0.002339</td>\n",
       "      <td>-0.011847</td>\n",
       "      <td>0.007450</td>\n",
       "      <td>-0.014036</td>\n",
       "      <td>0.004839</td>\n",
       "      <td>-0.006911</td>\n",
       "      <td>-0.017567</td>\n",
       "      <td>...</td>\n",
       "      <td>-0.012898</td>\n",
       "      <td>-0.007712</td>\n",
       "      <td>-0.002897</td>\n",
       "      <td>0.006447</td>\n",
       "      <td>0.009649</td>\n",
       "      <td>-0.001082</td>\n",
       "      <td>0.000793</td>\n",
       "      <td>-0.000853</td>\n",
       "      <td>0.002476</td>\n",
       "      <td>0.014148</td>\n",
       "    </tr>\n",
       "    <tr>\n",
       "      <th>212</th>\n",
       "      <td>0.150757</td>\n",
       "      <td>-0.025135</td>\n",
       "      <td>0.003744</td>\n",
       "      <td>-0.016544</td>\n",
       "      <td>-0.026246</td>\n",
       "      <td>0.008955</td>\n",
       "      <td>-0.016241</td>\n",
       "      <td>-0.017428</td>\n",
       "      <td>0.021355</td>\n",
       "      <td>0.015735</td>\n",
       "      <td>...</td>\n",
       "      <td>-0.000472</td>\n",
       "      <td>0.009419</td>\n",
       "      <td>-0.041621</td>\n",
       "      <td>-0.015855</td>\n",
       "      <td>0.034099</td>\n",
       "      <td>0.028615</td>\n",
       "      <td>0.024081</td>\n",
       "      <td>-0.002326</td>\n",
       "      <td>0.000438</td>\n",
       "      <td>-0.005792</td>\n",
       "    </tr>\n",
       "  </tbody>\n",
       "</table>\n",
       "<p>3 rows × 200 columns</p>\n",
       "</div>"
      ],
      "text/plain": [
       "                      0         1         2         3         4         5    \\\n",
       "name                                                                          \n",
       "1 Million        0.467838  0.428484 -0.009549  0.003317 -0.015806  0.055306   \n",
       "1 Million Lucky  0.183083  0.179630 -0.007974 -0.002339 -0.011847  0.007450   \n",
       "212              0.150757 -0.025135  0.003744 -0.016544 -0.026246  0.008955   \n",
       "\n",
       "                      6         7         8         9      ...          190  \\\n",
       "name                                                       ...                \n",
       "1 Million       -0.033424  0.010779  0.003014 -0.064551    ...     0.007689   \n",
       "1 Million Lucky -0.014036  0.004839 -0.006911 -0.017567    ...    -0.012898   \n",
       "212             -0.016241 -0.017428  0.021355  0.015735    ...    -0.000472   \n",
       "\n",
       "                      191       192       193       194       195       196  \\\n",
       "name                                                                          \n",
       "1 Million        0.052416  0.027065 -0.093919 -0.055425 -0.000665  0.024111   \n",
       "1 Million Lucky -0.007712 -0.002897  0.006447  0.009649 -0.001082  0.000793   \n",
       "212              0.009419 -0.041621 -0.015855  0.034099  0.028615  0.024081   \n",
       "\n",
       "                      197       198       199  \n",
       "name                                           \n",
       "1 Million        0.044285 -0.065849 -0.044501  \n",
       "1 Million Lucky -0.000853  0.002476  0.014148  \n",
       "212             -0.002326  0.000438 -0.005792  \n",
       "\n",
       "[3 rows x 200 columns]"
      ]
     },
     "execution_count": 15,
     "metadata": {},
     "output_type": "execute_result"
    }
   ],
   "source": [
    "vector = lsi[corpus_tfidf]\n",
    "lsivector = gensim.matutils.corpus2csc(vector)\n",
    "lsivector = lsivector.T.toarray()\n",
    "lsi_matrix = pd.DataFrame(lsivector, index=df_review['name'])\n",
    "print(lsi_matrix.shape)\n",
    "lsi_matrix.head(3)\n"
   ]
  },
  {
   "cell_type": "code",
   "execution_count": 16,
   "metadata": {},
   "outputs": [],
   "source": [
    "# save the lsi matrix\n",
    "pickle.dump(lsi_matrix, open(\"flaskexample/models/lsi_embeddings.pkl\", \"wb\"))"
   ]
  },
  {
   "cell_type": "code",
   "execution_count": 17,
   "metadata": {},
   "outputs": [
    {
     "data": {
      "text/html": [
       "<div>\n",
       "<style scoped>\n",
       "    .dataframe tbody tr th:only-of-type {\n",
       "        vertical-align: middle;\n",
       "    }\n",
       "\n",
       "    .dataframe tbody tr th {\n",
       "        vertical-align: top;\n",
       "    }\n",
       "\n",
       "    .dataframe thead th {\n",
       "        text-align: right;\n",
       "    }\n",
       "</style>\n",
       "<table border=\"1\" class=\"dataframe\">\n",
       "  <thead>\n",
       "    <tr style=\"text-align: right;\">\n",
       "      <th></th>\n",
       "      <th>0</th>\n",
       "      <th>1</th>\n",
       "      <th>2</th>\n",
       "      <th>3</th>\n",
       "      <th>4</th>\n",
       "      <th>5</th>\n",
       "      <th>6</th>\n",
       "      <th>7</th>\n",
       "      <th>8</th>\n",
       "      <th>9</th>\n",
       "      <th>...</th>\n",
       "      <th>190</th>\n",
       "      <th>191</th>\n",
       "      <th>192</th>\n",
       "      <th>193</th>\n",
       "      <th>194</th>\n",
       "      <th>195</th>\n",
       "      <th>196</th>\n",
       "      <th>197</th>\n",
       "      <th>198</th>\n",
       "      <th>199</th>\n",
       "    </tr>\n",
       "  </thead>\n",
       "  <tbody>\n",
       "    <tr>\n",
       "      <th>0</th>\n",
       "      <td>0.070584</td>\n",
       "      <td>-0.048531</td>\n",
       "      <td>0.003678</td>\n",
       "      <td>-0.010868</td>\n",
       "      <td>0.033721</td>\n",
       "      <td>-0.015858</td>\n",
       "      <td>-0.029104</td>\n",
       "      <td>-0.042187</td>\n",
       "      <td>-0.039633</td>\n",
       "      <td>-0.007146</td>\n",
       "      <td>...</td>\n",
       "      <td>-0.036133</td>\n",
       "      <td>-0.037529</td>\n",
       "      <td>0.001101</td>\n",
       "      <td>-0.03984</td>\n",
       "      <td>-0.004625</td>\n",
       "      <td>-0.024633</td>\n",
       "      <td>0.009543</td>\n",
       "      <td>-0.023062</td>\n",
       "      <td>0.001513</td>\n",
       "      <td>0.005495</td>\n",
       "    </tr>\n",
       "  </tbody>\n",
       "</table>\n",
       "<p>1 rows × 200 columns</p>\n",
       "</div>"
      ],
      "text/plain": [
       "        0         1         2         3         4         5         6    \\\n",
       "0  0.070584 -0.048531  0.003678 -0.010868  0.033721 -0.015858 -0.029104   \n",
       "\n",
       "        7         8         9      ...          190       191       192  \\\n",
       "0 -0.042187 -0.039633 -0.007146    ...    -0.036133 -0.037529  0.001101   \n",
       "\n",
       "       193       194       195       196       197       198       199  \n",
       "0 -0.03984 -0.004625 -0.024633  0.009543 -0.023062  0.001513  0.005495  \n",
       "\n",
       "[1 rows x 200 columns]"
      ]
     },
     "execution_count": 17,
     "metadata": {},
     "output_type": "execute_result"
    }
   ],
   "source": [
    "#vecterization test\n",
    "test = 'This is a test. I like a lot of flowers'\n",
    "pre_test = preprocessText(test)\n",
    "test_corpus = [dictionary.doc2bow(pre_test.split())]\n",
    "test_corpus_tfidf = tfidf[test_corpus]\n",
    "test_vector = lsi[test_corpus_tfidf]\n",
    "test_vector = gensim.matutils.corpus2csc(test_vector)\n",
    "test_vector = test_vector.T.toarray()\n",
    "test_df = pd.DataFrame(test_vector)\n",
    "test_df"
   ]
  },
  {
   "cell_type": "code",
   "execution_count": null,
   "metadata": {},
   "outputs": [],
   "source": []
  },
  {
   "cell_type": "code",
   "execution_count": null,
   "metadata": {},
   "outputs": [],
   "source": []
  },
  {
   "cell_type": "code",
   "execution_count": null,
   "metadata": {},
   "outputs": [],
   "source": []
  }
 ],
 "metadata": {
  "kernelspec": {
   "display_name": "Python 3",
   "language": "python",
   "name": "python3"
  },
  "language_info": {
   "codemirror_mode": {
    "name": "ipython",
    "version": 3
   },
   "file_extension": ".py",
   "mimetype": "text/x-python",
   "name": "python",
   "nbconvert_exporter": "python",
   "pygments_lexer": "ipython3",
   "version": "3.6.7"
  }
 },
 "nbformat": 4,
 "nbformat_minor": 2
}
