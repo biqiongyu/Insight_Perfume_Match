{
 "cells": [
  {
   "cell_type": "code",
   "execution_count": 1,
   "metadata": {},
   "outputs": [],
   "source": [
    "#! pip install gensim\n",
    "import re\n",
    "import pandas as pd\n",
    "import numpy as np\n",
    "import matplotlib.pyplot as plt\n",
    "import seaborn as sns\n",
    "import pickle\n",
    "from nltk.tokenize import word_tokenize\n",
    "from string import punctuation \n",
    "from nltk.corpus import stopwords\n",
    "from nltk.stem import SnowballStemmer\n",
    "from nltk.tokenize import RegexpTokenizer\n",
    "import gensim\n",
    "from gensim.test.utils import get_tmpfile\n"
   ]
  },
  {
   "cell_type": "code",
   "execution_count": 2,
   "metadata": {},
   "outputs": [],
   "source": [
    "def preprocessText(text):\n",
    "            \n",
    "        stops = stopwords.words(\"english\")\n",
    "        #add more stopwords in this particular case\n",
    "        stops.extend(['love','like','hate','amazing','favorite','dislike',\"don't\",'awesome','great','good','bad','horrible','excellent'])\n",
    "        stemmer = SnowballStemmer('english')\n",
    "\n",
    "        text = str(text).lower() # convert text to lower-case\n",
    "        text = word_tokenize(text) # remove repeated characters (helloooooooo into hello)    \n",
    "     \n",
    "        stemmed_words = [stemmer.stem(word) for word in text]\n",
    "        text = \" \".join(stemmed_words) # word stemmer\n",
    "    \n",
    "        tokenizer = RegexpTokenizer(r'\\w+') #tokenize\n",
    "        text = tokenizer.tokenize(text)\n",
    "    \n",
    "        stop_words = [word for word in text if word not in stops]\n",
    "        text = \" \".join(stop_words)\n",
    "   \n",
    "        return text"
   ]
  },
  {
   "cell_type": "code",
   "execution_count": 3,
   "metadata": {},
   "outputs": [],
   "source": [
    "#Text preprocess \n",
    "df_review = pd.read_csv('flaskexample/data/fragrance_data.csv')\n",
    "df_review['preprocess_text_tot'] = df_review['text_tot'].apply(lambda x: preprocessText(x))"
   ]
  },
  {
   "cell_type": "markdown",
   "metadata": {},
   "source": [
    "# Use doc2vec"
   ]
  },
  {
   "cell_type": "code",
   "execution_count": 4,
   "metadata": {},
   "outputs": [],
   "source": [
    "# build vocabuary using doc2vec\n",
    "documents = df_review['preprocess_text_tot']\n",
    "formatted_documents = [gensim.models.doc2vec.TaggedDocument(doc, [i]) for i, doc in enumerate(documents)]\n",
    "\n",
    "model = gensim.models.doc2vec.Doc2Vec(vector_size=200, min_count=3, epochs=200, window=10, dm=1,workers=1,alpha = 0.01)\n",
    "model.build_vocab(formatted_documents)"
   ]
  },
  {
   "cell_type": "code",
   "execution_count": 5,
   "metadata": {},
   "outputs": [
    {
     "name": "stdout",
     "output_type": "stream",
     "text": [
      "CPU times: user 7min 47s, sys: 2.74 s, total: 7min 50s\n",
      "Wall time: 7min 48s\n"
     ]
    }
   ],
   "source": [
    "# train model\n",
    "%time model.train(formatted_documents, total_examples=model.corpus_count, epochs=model.epochs)\n"
   ]
  },
  {
   "cell_type": "code",
   "execution_count": 6,
   "metadata": {},
   "outputs": [
    {
     "data": {
      "text/plain": [
       "array([ 9.2984090e-04,  2.1324467e-03, -4.1767088e-04,  8.2117837e-04,\n",
       "       -2.8487531e-04, -1.1723568e-03, -1.8401407e-03,  1.0269838e-03,\n",
       "        1.8920006e-03, -4.0799665e-04,  2.4522243e-03, -3.1235043e-04,\n",
       "       -4.0117686e-04,  6.5788877e-04,  3.5301846e-04,  6.9271051e-04,\n",
       "        2.3944173e-03, -1.0596224e-03,  1.1843473e-03,  2.2393286e-03,\n",
       "       -1.1506575e-03,  1.4495827e-03,  2.3033267e-03, -2.4168526e-03,\n",
       "       -2.3579563e-03, -6.9102767e-04, -2.4613319e-03, -1.4113291e-03,\n",
       "        8.8263070e-04, -1.5255756e-03,  1.0207603e-03, -1.3480903e-04,\n",
       "        9.4947807e-04, -7.3342249e-05,  1.3557486e-03,  1.5164035e-03,\n",
       "       -7.2662788e-04, -1.4728388e-03, -2.0321498e-03,  1.5249919e-03,\n",
       "        1.7045502e-03,  2.7438879e-04, -1.6036112e-03,  5.0542637e-04,\n",
       "        1.0619115e-03,  1.4562886e-03, -1.3032815e-03, -6.4416870e-04,\n",
       "       -1.5000931e-03,  4.9698958e-04,  2.3950429e-03, -1.8324794e-03,\n",
       "        1.7780322e-03,  1.8322080e-03, -1.5263227e-03,  1.3336759e-03,\n",
       "       -1.7174932e-03, -9.9216576e-04, -2.6400530e-04, -9.7283913e-04,\n",
       "       -5.2207563e-04,  2.0608415e-05,  1.2292105e-03,  1.0087003e-03,\n",
       "        1.8591109e-04, -1.6840307e-04,  1.9549690e-03, -2.2189175e-03,\n",
       "       -1.2870175e-03, -9.5141825e-04, -1.5735612e-03,  2.1928035e-04,\n",
       "        1.4244154e-03,  1.6160751e-03, -3.2024257e-04, -1.8794858e-03,\n",
       "       -1.3767673e-03,  1.1512757e-03, -2.3048539e-03, -1.5205215e-03,\n",
       "        1.5599035e-03, -1.4834125e-03,  1.1361878e-03, -1.7293489e-03,\n",
       "        1.3229393e-03, -1.2998962e-03, -6.7283376e-04, -1.6479876e-03,\n",
       "        1.9533751e-03,  1.6311691e-03, -9.6406462e-04, -2.0410181e-03,\n",
       "        2.1250092e-03, -8.8572683e-04,  2.4736756e-03,  1.9592659e-03,\n",
       "        2.1699697e-03,  8.9518039e-04,  6.0194769e-05,  1.7619923e-03,\n",
       "        2.0421413e-03, -1.5991791e-04,  2.4425602e-03,  1.1842170e-03,\n",
       "        1.4502215e-03,  1.5394084e-04, -1.1858139e-03,  2.2469219e-03,\n",
       "        1.8829899e-03,  1.1154008e-03,  3.1031642e-04, -1.1649382e-03,\n",
       "       -1.7627396e-03, -1.9370246e-03,  1.2634874e-03,  1.2592839e-03,\n",
       "        3.2745488e-04, -9.1334106e-04, -2.1709064e-03, -1.5983370e-03,\n",
       "       -6.3154497e-04, -2.1209354e-03,  1.7362999e-03,  1.5351124e-03,\n",
       "       -1.6950025e-03,  1.3479938e-03, -1.8053574e-03, -2.2197126e-03,\n",
       "       -2.2414327e-03, -1.7120909e-03, -1.7200985e-03, -6.3369371e-04,\n",
       "        6.6214829e-04,  7.2202540e-04,  1.7897106e-03,  1.9150195e-03,\n",
       "       -6.5391761e-04, -1.7815946e-04,  1.6012260e-03,  4.5509177e-04,\n",
       "       -7.8188360e-04, -1.4123597e-04,  7.9283549e-04,  7.9417939e-04,\n",
       "        2.1431723e-03, -6.4878102e-04,  2.1929750e-03, -2.2555036e-03,\n",
       "       -2.2385719e-03,  2.0834913e-03,  1.5879252e-03,  1.1382778e-03,\n",
       "       -1.6544237e-03, -9.0226083e-04,  1.2755477e-03,  9.0793887e-04,\n",
       "        6.6007458e-04, -1.9817757e-03,  1.7467092e-03,  1.7750930e-03,\n",
       "       -2.2734704e-03, -1.7782323e-04,  1.9169459e-03, -1.7249516e-04,\n",
       "       -1.9372506e-03,  1.1523054e-03, -6.4287230e-04,  4.0164473e-04,\n",
       "       -4.5854849e-05,  2.1575715e-05,  8.9403032e-04, -2.0602522e-03,\n",
       "       -7.7154237e-04,  1.3488238e-03, -1.3993098e-03,  1.3858716e-03,\n",
       "        6.5888168e-04,  1.5394065e-03,  1.6732966e-03, -1.7363077e-03,\n",
       "        2.4079401e-03, -1.8903316e-04,  1.2641729e-04,  1.3200860e-03,\n",
       "       -6.3771527e-04,  1.9588328e-03, -2.2506737e-03, -6.7403557e-04,\n",
       "        1.2058946e-03, -1.6451501e-03,  7.0753734e-04,  9.3602680e-04,\n",
       "        1.0542840e-03,  1.9335806e-03,  2.1732897e-03, -9.5204695e-04,\n",
       "        1.9822500e-03,  1.5692707e-03,  2.2749926e-03, -2.4740559e-03],\n",
       "      dtype=float32)"
      ]
     },
     "execution_count": 6,
     "metadata": {},
     "output_type": "execute_result"
    }
   ],
   "source": [
    "#test\n",
    "inputmessage = \"I love sea\"\n",
    "vector = model.infer_vector(inputmessage.split(\" \"),epochs=10)\n",
    "vector"
   ]
  },
  {
   "cell_type": "code",
   "execution_count": 7,
   "metadata": {},
   "outputs": [
    {
     "name": "stderr",
     "output_type": "stream",
     "text": [
      "/anaconda3/lib/python3.6/site-packages/smart_open/smart_open_lib.py:398: UserWarning: This function is deprecated, use smart_open.open instead. See the migration notes for details: https://github.com/RaRe-Technologies/smart_open/blob/master/README.rst#migrating-to-the-new-open-function\n",
      "  'See the migration notes for details: %s' % _MIGRATION_NOTES_URL\n",
      "/anaconda3/lib/python3.6/site-packages/smart_open/smart_open_lib.py:398: UserWarning: This function is deprecated, use smart_open.open instead. See the migration notes for details: https://github.com/RaRe-Technologies/smart_open/blob/master/README.rst#migrating-to-the-new-open-function\n",
      "  'See the migration notes for details: %s' % _MIGRATION_NOTES_URL\n"
     ]
    }
   ],
   "source": [
    "model.save(\"flaskexample/models/doc2vec_model\")\n",
    "model = gensim.models.doc2vec.Doc2Vec.load(\"flaskexample/models/doc2vec_model\")\n"
   ]
  },
  {
   "cell_type": "code",
   "execution_count": 8,
   "metadata": {},
   "outputs": [
    {
     "name": "stdout",
     "output_type": "stream",
     "text": [
      "(255, 200)\n"
     ]
    },
    {
     "data": {
      "text/html": [
       "<div>\n",
       "<style scoped>\n",
       "    .dataframe tbody tr th:only-of-type {\n",
       "        vertical-align: middle;\n",
       "    }\n",
       "\n",
       "    .dataframe tbody tr th {\n",
       "        vertical-align: top;\n",
       "    }\n",
       "\n",
       "    .dataframe thead th {\n",
       "        text-align: right;\n",
       "    }\n",
       "</style>\n",
       "<table border=\"1\" class=\"dataframe\">\n",
       "  <thead>\n",
       "    <tr style=\"text-align: right;\">\n",
       "      <th></th>\n",
       "      <th>0</th>\n",
       "      <th>1</th>\n",
       "      <th>2</th>\n",
       "      <th>3</th>\n",
       "      <th>4</th>\n",
       "      <th>5</th>\n",
       "      <th>6</th>\n",
       "      <th>7</th>\n",
       "      <th>8</th>\n",
       "      <th>9</th>\n",
       "      <th>...</th>\n",
       "      <th>190</th>\n",
       "      <th>191</th>\n",
       "      <th>192</th>\n",
       "      <th>193</th>\n",
       "      <th>194</th>\n",
       "      <th>195</th>\n",
       "      <th>196</th>\n",
       "      <th>197</th>\n",
       "      <th>198</th>\n",
       "      <th>199</th>\n",
       "    </tr>\n",
       "    <tr>\n",
       "      <th>name</th>\n",
       "      <th></th>\n",
       "      <th></th>\n",
       "      <th></th>\n",
       "      <th></th>\n",
       "      <th></th>\n",
       "      <th></th>\n",
       "      <th></th>\n",
       "      <th></th>\n",
       "      <th></th>\n",
       "      <th></th>\n",
       "      <th></th>\n",
       "      <th></th>\n",
       "      <th></th>\n",
       "      <th></th>\n",
       "      <th></th>\n",
       "      <th></th>\n",
       "      <th></th>\n",
       "      <th></th>\n",
       "      <th></th>\n",
       "      <th></th>\n",
       "      <th></th>\n",
       "    </tr>\n",
       "  </thead>\n",
       "  <tbody>\n",
       "    <tr>\n",
       "      <th>1 Million</th>\n",
       "      <td>-0.285015</td>\n",
       "      <td>-0.781768</td>\n",
       "      <td>-0.283619</td>\n",
       "      <td>0.630631</td>\n",
       "      <td>0.439969</td>\n",
       "      <td>-0.453569</td>\n",
       "      <td>-0.694097</td>\n",
       "      <td>-0.830710</td>\n",
       "      <td>-1.287730</td>\n",
       "      <td>1.053587</td>\n",
       "      <td>...</td>\n",
       "      <td>0.243208</td>\n",
       "      <td>-0.663966</td>\n",
       "      <td>-0.631537</td>\n",
       "      <td>0.560223</td>\n",
       "      <td>0.334696</td>\n",
       "      <td>-1.473050</td>\n",
       "      <td>1.224162</td>\n",
       "      <td>0.442532</td>\n",
       "      <td>0.185852</td>\n",
       "      <td>-1.226574</td>\n",
       "    </tr>\n",
       "    <tr>\n",
       "      <th>1 Million Lucky</th>\n",
       "      <td>-0.245600</td>\n",
       "      <td>-0.884978</td>\n",
       "      <td>-0.145119</td>\n",
       "      <td>-0.323488</td>\n",
       "      <td>0.276236</td>\n",
       "      <td>-0.401541</td>\n",
       "      <td>0.688834</td>\n",
       "      <td>0.099906</td>\n",
       "      <td>-0.050438</td>\n",
       "      <td>0.055179</td>\n",
       "      <td>...</td>\n",
       "      <td>0.547446</td>\n",
       "      <td>-0.572283</td>\n",
       "      <td>-0.269162</td>\n",
       "      <td>0.547626</td>\n",
       "      <td>0.530881</td>\n",
       "      <td>0.137398</td>\n",
       "      <td>-0.320326</td>\n",
       "      <td>0.276737</td>\n",
       "      <td>0.688570</td>\n",
       "      <td>0.170296</td>\n",
       "    </tr>\n",
       "    <tr>\n",
       "      <th>212</th>\n",
       "      <td>-1.033316</td>\n",
       "      <td>-0.204336</td>\n",
       "      <td>-1.532184</td>\n",
       "      <td>-0.504835</td>\n",
       "      <td>-1.135732</td>\n",
       "      <td>-0.300239</td>\n",
       "      <td>-1.480776</td>\n",
       "      <td>0.502660</td>\n",
       "      <td>-0.469252</td>\n",
       "      <td>0.821148</td>\n",
       "      <td>...</td>\n",
       "      <td>-0.177869</td>\n",
       "      <td>0.869820</td>\n",
       "      <td>0.222755</td>\n",
       "      <td>0.640796</td>\n",
       "      <td>-0.837944</td>\n",
       "      <td>0.282531</td>\n",
       "      <td>-1.186029</td>\n",
       "      <td>-0.216785</td>\n",
       "      <td>-1.835332</td>\n",
       "      <td>-1.839382</td>\n",
       "    </tr>\n",
       "  </tbody>\n",
       "</table>\n",
       "<p>3 rows × 200 columns</p>\n",
       "</div>"
      ],
      "text/plain": [
       "                      0         1         2         3         4         5    \\\n",
       "name                                                                          \n",
       "1 Million       -0.285015 -0.781768 -0.283619  0.630631  0.439969 -0.453569   \n",
       "1 Million Lucky -0.245600 -0.884978 -0.145119 -0.323488  0.276236 -0.401541   \n",
       "212             -1.033316 -0.204336 -1.532184 -0.504835 -1.135732 -0.300239   \n",
       "\n",
       "                      6         7         8         9      ...          190  \\\n",
       "name                                                       ...                \n",
       "1 Million       -0.694097 -0.830710 -1.287730  1.053587    ...     0.243208   \n",
       "1 Million Lucky  0.688834  0.099906 -0.050438  0.055179    ...     0.547446   \n",
       "212             -1.480776  0.502660 -0.469252  0.821148    ...    -0.177869   \n",
       "\n",
       "                      191       192       193       194       195       196  \\\n",
       "name                                                                          \n",
       "1 Million       -0.663966 -0.631537  0.560223  0.334696 -1.473050  1.224162   \n",
       "1 Million Lucky -0.572283 -0.269162  0.547626  0.530881  0.137398 -0.320326   \n",
       "212              0.869820  0.222755  0.640796 -0.837944  0.282531 -1.186029   \n",
       "\n",
       "                      197       198       199  \n",
       "name                                           \n",
       "1 Million        0.442532  0.185852 -1.226574  \n",
       "1 Million Lucky  0.276737  0.688570  0.170296  \n",
       "212             -0.216785 -1.835332 -1.839382  \n",
       "\n",
       "[3 rows x 200 columns]"
      ]
     },
     "execution_count": 8,
     "metadata": {},
     "output_type": "execute_result"
    }
   ],
   "source": [
    "# build doc2vec matrix\n",
    "doctovec_feature_matrix = pd.DataFrame(model.docvecs.vectors_docs, index=df_review['name'])\n",
    "print(doctovec_feature_matrix.shape)\n",
    "doctovec_feature_matrix.head(3)\n"
   ]
  },
  {
   "cell_type": "code",
   "execution_count": 9,
   "metadata": {},
   "outputs": [],
   "source": [
    "pickle.dump(doctovec_feature_matrix, open(\"flaskexample/models/doctovec_embeddings.pkl\", \"wb\"))"
   ]
  },
  {
   "cell_type": "markdown",
   "metadata": {},
   "source": [
    "# Use LSA, TF-IDF"
   ]
  },
  {
   "cell_type": "code",
   "execution_count": 10,
   "metadata": {},
   "outputs": [
    {
     "name": "stderr",
     "output_type": "stream",
     "text": [
      "/anaconda3/lib/python3.6/site-packages/smart_open/smart_open_lib.py:398: UserWarning: This function is deprecated, use smart_open.open instead. See the migration notes for details: https://github.com/RaRe-Technologies/smart_open/blob/master/README.rst#migrating-to-the-new-open-function\n",
      "  'See the migration notes for details: %s' % _MIGRATION_NOTES_URL\n"
     ]
    }
   ],
   "source": [
    "#Use gensim\n",
    "# create dictionary\n",
    "from gensim import corpora, models\n",
    "dictionary = corpora.Dictionary(df_review['preprocess_text_tot'].str.split())\n",
    "dictionary.save('flaskexample/models/dictionary')"
   ]
  },
  {
   "cell_type": "code",
   "execution_count": 11,
   "metadata": {},
   "outputs": [],
   "source": [
    "#create corpus\n",
    "corpus = [dictionary.doc2bow(text) for text in df_review['preprocess_text_tot'].str.split()]"
   ]
  },
  {
   "cell_type": "code",
   "execution_count": 12,
   "metadata": {},
   "outputs": [
    {
     "name": "stderr",
     "output_type": "stream",
     "text": [
      "/anaconda3/lib/python3.6/site-packages/smart_open/smart_open_lib.py:398: UserWarning: This function is deprecated, use smart_open.open instead. See the migration notes for details: https://github.com/RaRe-Technologies/smart_open/blob/master/README.rst#migrating-to-the-new-open-function\n",
      "  'See the migration notes for details: %s' % _MIGRATION_NOTES_URL\n"
     ]
    }
   ],
   "source": [
    "#create TF-IDF vectors\n",
    "tfidf = models.TfidfModel(corpus) # fit model\n",
    "corpus_tfidf = tfidf[corpus]\n",
    "tfidf.save('flaskexample/models/tfidf')  # same for tfidf, lda, ..."
   ]
  },
  {
   "cell_type": "code",
   "execution_count": 13,
   "metadata": {},
   "outputs": [
    {
     "name": "stderr",
     "output_type": "stream",
     "text": [
      "/anaconda3/lib/python3.6/site-packages/smart_open/smart_open_lib.py:398: UserWarning: This function is deprecated, use smart_open.open instead. See the migration notes for details: https://github.com/RaRe-Technologies/smart_open/blob/master/README.rst#migrating-to-the-new-open-function\n",
      "  'See the migration notes for details: %s' % _MIGRATION_NOTES_URL\n",
      "/anaconda3/lib/python3.6/site-packages/smart_open/smart_open_lib.py:398: UserWarning: This function is deprecated, use smart_open.open instead. See the migration notes for details: https://github.com/RaRe-Technologies/smart_open/blob/master/README.rst#migrating-to-the-new-open-function\n",
      "  'See the migration notes for details: %s' % _MIGRATION_NOTES_URL\n"
     ]
    }
   ],
   "source": [
    "from gensim.models import LsiModel\n",
    "\n",
    "lsi = models.LsiModel(corpus_tfidf, id2word=dictionary, num_topics=100)\n",
    "lsi.save('flaskexample/models/lsimodel') "
   ]
  },
  {
   "cell_type": "code",
   "execution_count": 14,
   "metadata": {},
   "outputs": [
    {
     "name": "stderr",
     "output_type": "stream",
     "text": [
      "/anaconda3/lib/python3.6/site-packages/smart_open/smart_open_lib.py:398: UserWarning: This function is deprecated, use smart_open.open instead. See the migration notes for details: https://github.com/RaRe-Technologies/smart_open/blob/master/README.rst#migrating-to-the-new-open-function\n",
      "  'See the migration notes for details: %s' % _MIGRATION_NOTES_URL\n",
      "/anaconda3/lib/python3.6/site-packages/smart_open/smart_open_lib.py:398: UserWarning: This function is deprecated, use smart_open.open instead. See the migration notes for details: https://github.com/RaRe-Technologies/smart_open/blob/master/README.rst#migrating-to-the-new-open-function\n",
      "  'See the migration notes for details: %s' % _MIGRATION_NOTES_URL\n"
     ]
    },
    {
     "data": {
      "text/plain": [
       "[(0,\n",
       "  '-0.169*\"cologn\" + -0.110*\"floral\" + -0.108*\"perfum\" + -0.095*\"man\" + -0.094*\"boyfriend\" + -0.090*\"sexi\" + -0.088*\"rollerbal\" + -0.086*\"vanilla\" + -0.085*\"flowerbomb\" + -0.081*\"chanel\"'),\n",
       " (1,\n",
       "  '0.507*\"cologn\" + 0.266*\"man\" + 0.235*\"boyfriend\" + 0.175*\"polo\" + 0.155*\"husband\" + 0.155*\"men\" + 0.151*\"homm\" + 0.144*\"masculin\" + 0.116*\"dad\" + 0.116*\"christma\"')]"
      ]
     },
     "execution_count": 14,
     "metadata": {},
     "output_type": "execute_result"
    }
   ],
   "source": [
    "lsi = models.LsiModel.load('flaskexample/models/lsimodel')\n",
    "lsi.show_topics(num_topics=2, num_words=10, log=False, formatted=True)\n"
   ]
  },
  {
   "cell_type": "code",
   "execution_count": 15,
   "metadata": {},
   "outputs": [
    {
     "name": "stdout",
     "output_type": "stream",
     "text": [
      "(255, 100)\n"
     ]
    },
    {
     "data": {
      "text/html": [
       "<div>\n",
       "<style scoped>\n",
       "    .dataframe tbody tr th:only-of-type {\n",
       "        vertical-align: middle;\n",
       "    }\n",
       "\n",
       "    .dataframe tbody tr th {\n",
       "        vertical-align: top;\n",
       "    }\n",
       "\n",
       "    .dataframe thead th {\n",
       "        text-align: right;\n",
       "    }\n",
       "</style>\n",
       "<table border=\"1\" class=\"dataframe\">\n",
       "  <thead>\n",
       "    <tr style=\"text-align: right;\">\n",
       "      <th></th>\n",
       "      <th>0</th>\n",
       "      <th>1</th>\n",
       "      <th>2</th>\n",
       "      <th>3</th>\n",
       "      <th>4</th>\n",
       "      <th>5</th>\n",
       "      <th>6</th>\n",
       "      <th>7</th>\n",
       "      <th>8</th>\n",
       "      <th>9</th>\n",
       "      <th>...</th>\n",
       "      <th>90</th>\n",
       "      <th>91</th>\n",
       "      <th>92</th>\n",
       "      <th>93</th>\n",
       "      <th>94</th>\n",
       "      <th>95</th>\n",
       "      <th>96</th>\n",
       "      <th>97</th>\n",
       "      <th>98</th>\n",
       "      <th>99</th>\n",
       "    </tr>\n",
       "    <tr>\n",
       "      <th>name</th>\n",
       "      <th></th>\n",
       "      <th></th>\n",
       "      <th></th>\n",
       "      <th></th>\n",
       "      <th></th>\n",
       "      <th></th>\n",
       "      <th></th>\n",
       "      <th></th>\n",
       "      <th></th>\n",
       "      <th></th>\n",
       "      <th></th>\n",
       "      <th></th>\n",
       "      <th></th>\n",
       "      <th></th>\n",
       "      <th></th>\n",
       "      <th></th>\n",
       "      <th></th>\n",
       "      <th></th>\n",
       "      <th></th>\n",
       "      <th></th>\n",
       "      <th></th>\n",
       "    </tr>\n",
       "  </thead>\n",
       "  <tbody>\n",
       "    <tr>\n",
       "      <th>1 Million</th>\n",
       "      <td>-0.467836</td>\n",
       "      <td>0.428476</td>\n",
       "      <td>-0.009583</td>\n",
       "      <td>-0.003225</td>\n",
       "      <td>-0.015282</td>\n",
       "      <td>-0.055295</td>\n",
       "      <td>-0.033855</td>\n",
       "      <td>0.010762</td>\n",
       "      <td>0.002709</td>\n",
       "      <td>0.064704</td>\n",
       "      <td>...</td>\n",
       "      <td>0.024274</td>\n",
       "      <td>0.017948</td>\n",
       "      <td>-0.005488</td>\n",
       "      <td>-0.007281</td>\n",
       "      <td>-0.019485</td>\n",
       "      <td>-0.013152</td>\n",
       "      <td>-0.009666</td>\n",
       "      <td>0.021718</td>\n",
       "      <td>-0.000074</td>\n",
       "      <td>0.013393</td>\n",
       "    </tr>\n",
       "    <tr>\n",
       "      <th>1 Million Lucky</th>\n",
       "      <td>-0.183084</td>\n",
       "      <td>0.179611</td>\n",
       "      <td>-0.007931</td>\n",
       "      <td>0.002365</td>\n",
       "      <td>-0.012043</td>\n",
       "      <td>-0.007500</td>\n",
       "      <td>-0.013948</td>\n",
       "      <td>0.004978</td>\n",
       "      <td>-0.006980</td>\n",
       "      <td>0.017636</td>\n",
       "      <td>...</td>\n",
       "      <td>-0.063313</td>\n",
       "      <td>-0.131907</td>\n",
       "      <td>0.047674</td>\n",
       "      <td>-0.096520</td>\n",
       "      <td>-0.125163</td>\n",
       "      <td>0.044155</td>\n",
       "      <td>0.003431</td>\n",
       "      <td>-0.023883</td>\n",
       "      <td>-0.059151</td>\n",
       "      <td>-0.083248</td>\n",
       "    </tr>\n",
       "    <tr>\n",
       "      <th>212</th>\n",
       "      <td>-0.150757</td>\n",
       "      <td>-0.025141</td>\n",
       "      <td>0.003826</td>\n",
       "      <td>0.016608</td>\n",
       "      <td>-0.026302</td>\n",
       "      <td>-0.008933</td>\n",
       "      <td>-0.016120</td>\n",
       "      <td>-0.017192</td>\n",
       "      <td>0.020850</td>\n",
       "      <td>-0.015466</td>\n",
       "      <td>...</td>\n",
       "      <td>-0.250134</td>\n",
       "      <td>-0.112182</td>\n",
       "      <td>0.049766</td>\n",
       "      <td>0.148457</td>\n",
       "      <td>0.036002</td>\n",
       "      <td>-0.225343</td>\n",
       "      <td>-0.299844</td>\n",
       "      <td>0.032035</td>\n",
       "      <td>0.057944</td>\n",
       "      <td>0.022443</td>\n",
       "    </tr>\n",
       "  </tbody>\n",
       "</table>\n",
       "<p>3 rows × 100 columns</p>\n",
       "</div>"
      ],
      "text/plain": [
       "                       0         1         2         3         4         5   \\\n",
       "name                                                                          \n",
       "1 Million       -0.467836  0.428476 -0.009583 -0.003225 -0.015282 -0.055295   \n",
       "1 Million Lucky -0.183084  0.179611 -0.007931  0.002365 -0.012043 -0.007500   \n",
       "212             -0.150757 -0.025141  0.003826  0.016608 -0.026302 -0.008933   \n",
       "\n",
       "                       6         7         8         9     ...           90  \\\n",
       "name                                                       ...                \n",
       "1 Million       -0.033855  0.010762  0.002709  0.064704    ...     0.024274   \n",
       "1 Million Lucky -0.013948  0.004978 -0.006980  0.017636    ...    -0.063313   \n",
       "212             -0.016120 -0.017192  0.020850 -0.015466    ...    -0.250134   \n",
       "\n",
       "                       91        92        93        94        95        96  \\\n",
       "name                                                                          \n",
       "1 Million        0.017948 -0.005488 -0.007281 -0.019485 -0.013152 -0.009666   \n",
       "1 Million Lucky -0.131907  0.047674 -0.096520 -0.125163  0.044155  0.003431   \n",
       "212             -0.112182  0.049766  0.148457  0.036002 -0.225343 -0.299844   \n",
       "\n",
       "                       97        98        99  \n",
       "name                                           \n",
       "1 Million        0.021718 -0.000074  0.013393  \n",
       "1 Million Lucky -0.023883 -0.059151 -0.083248  \n",
       "212              0.032035  0.057944  0.022443  \n",
       "\n",
       "[3 rows x 100 columns]"
      ]
     },
     "execution_count": 15,
     "metadata": {},
     "output_type": "execute_result"
    }
   ],
   "source": [
    "vector = lsi[corpus_tfidf]\n",
    "lsivector = gensim.matutils.corpus2csc(vector)\n",
    "lsivector = lsivector.T.toarray()\n",
    "lsi_matrix = pd.DataFrame(lsivector, index=df_review['name'])\n",
    "print(lsi_matrix.shape)\n",
    "lsi_matrix.head(3)\n"
   ]
  },
  {
   "cell_type": "code",
   "execution_count": 16,
   "metadata": {},
   "outputs": [],
   "source": [
    "# save the lsi matrix\n",
    "pickle.dump(lsi_matrix, open(\"flaskexample/models/lsi_embeddings.pkl\", \"wb\"))"
   ]
  },
  {
   "cell_type": "code",
   "execution_count": 17,
   "metadata": {},
   "outputs": [
    {
     "data": {
      "text/html": [
       "<div>\n",
       "<style scoped>\n",
       "    .dataframe tbody tr th:only-of-type {\n",
       "        vertical-align: middle;\n",
       "    }\n",
       "\n",
       "    .dataframe tbody tr th {\n",
       "        vertical-align: top;\n",
       "    }\n",
       "\n",
       "    .dataframe thead th {\n",
       "        text-align: right;\n",
       "    }\n",
       "</style>\n",
       "<table border=\"1\" class=\"dataframe\">\n",
       "  <thead>\n",
       "    <tr style=\"text-align: right;\">\n",
       "      <th></th>\n",
       "      <th>0</th>\n",
       "      <th>1</th>\n",
       "      <th>2</th>\n",
       "      <th>3</th>\n",
       "      <th>4</th>\n",
       "      <th>5</th>\n",
       "      <th>6</th>\n",
       "      <th>7</th>\n",
       "      <th>8</th>\n",
       "      <th>9</th>\n",
       "      <th>...</th>\n",
       "      <th>90</th>\n",
       "      <th>91</th>\n",
       "      <th>92</th>\n",
       "      <th>93</th>\n",
       "      <th>94</th>\n",
       "      <th>95</th>\n",
       "      <th>96</th>\n",
       "      <th>97</th>\n",
       "      <th>98</th>\n",
       "      <th>99</th>\n",
       "    </tr>\n",
       "  </thead>\n",
       "  <tbody>\n",
       "    <tr>\n",
       "      <th>0</th>\n",
       "      <td>-0.070583</td>\n",
       "      <td>-0.048519</td>\n",
       "      <td>0.003678</td>\n",
       "      <td>0.010937</td>\n",
       "      <td>0.033745</td>\n",
       "      <td>0.015789</td>\n",
       "      <td>-0.029174</td>\n",
       "      <td>-0.042261</td>\n",
       "      <td>-0.039508</td>\n",
       "      <td>0.007239</td>\n",
       "      <td>...</td>\n",
       "      <td>-0.033118</td>\n",
       "      <td>0.056092</td>\n",
       "      <td>-0.002053</td>\n",
       "      <td>-0.025589</td>\n",
       "      <td>0.022807</td>\n",
       "      <td>0.017541</td>\n",
       "      <td>-0.044739</td>\n",
       "      <td>0.01606</td>\n",
       "      <td>-0.033129</td>\n",
       "      <td>-0.004375</td>\n",
       "    </tr>\n",
       "  </tbody>\n",
       "</table>\n",
       "<p>1 rows × 100 columns</p>\n",
       "</div>"
      ],
      "text/plain": [
       "         0         1         2         3         4         5         6   \\\n",
       "0 -0.070583 -0.048519  0.003678  0.010937  0.033745  0.015789 -0.029174   \n",
       "\n",
       "         7         8         9     ...           90        91        92  \\\n",
       "0 -0.042261 -0.039508  0.007239    ...    -0.033118  0.056092 -0.002053   \n",
       "\n",
       "         93        94        95        96       97        98        99  \n",
       "0 -0.025589  0.022807  0.017541 -0.044739  0.01606 -0.033129 -0.004375  \n",
       "\n",
       "[1 rows x 100 columns]"
      ]
     },
     "execution_count": 17,
     "metadata": {},
     "output_type": "execute_result"
    }
   ],
   "source": [
    "#vecterization test\n",
    "test = 'This is a test. I like a lot of flowers'\n",
    "pre_test = preprocessText(test)\n",
    "test_corpus = [dictionary.doc2bow(pre_test.split())]\n",
    "test_corpus_tfidf = tfidf[test_corpus]\n",
    "test_vector = lsi[test_corpus_tfidf]\n",
    "test_vector = gensim.matutils.corpus2csc(test_vector)\n",
    "test_vector = test_vector.T.toarray()\n",
    "test_df = pd.DataFrame(test_vector)\n",
    "test_df"
   ]
  },
  {
   "cell_type": "code",
   "execution_count": null,
   "metadata": {},
   "outputs": [],
   "source": []
  },
  {
   "cell_type": "code",
   "execution_count": null,
   "metadata": {},
   "outputs": [],
   "source": []
  },
  {
   "cell_type": "code",
   "execution_count": null,
   "metadata": {},
   "outputs": [],
   "source": []
  }
 ],
 "metadata": {
  "kernelspec": {
   "display_name": "Python 3",
   "language": "python",
   "name": "python3"
  },
  "language_info": {
   "codemirror_mode": {
    "name": "ipython",
    "version": 3
   },
   "file_extension": ".py",
   "mimetype": "text/x-python",
   "name": "python",
   "nbconvert_exporter": "python",
   "pygments_lexer": "ipython3",
   "version": "3.6.7"
  }
 },
 "nbformat": 4,
 "nbformat_minor": 2
}
