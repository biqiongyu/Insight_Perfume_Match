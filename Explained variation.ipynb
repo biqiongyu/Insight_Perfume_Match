{
 "cells": [
  {
   "cell_type": "code",
   "execution_count": 24,
   "metadata": {},
   "outputs": [],
   "source": [
    "import re\n",
    "import pandas as pd\n",
    "import numpy as np\n",
    "import matplotlib.pyplot as plt\n",
    "import seaborn as sns\n",
    "import pickle\n",
    "from nltk.tokenize import word_tokenize\n",
    "from string import punctuation \n",
    "from nltk.corpus import stopwords\n",
    "from nltk.stem import SnowballStemmer\n",
    "from nltk.tokenize import RegexpTokenizer\n",
    "import gensim\n",
    "from gensim.test.utils import get_tmpfile\n"
   ]
  },
  {
   "cell_type": "code",
   "execution_count": 25,
   "metadata": {},
   "outputs": [],
   "source": [
    "def preprocessText(text):\n",
    "            \n",
    "        stops = stopwords.words(\"english\")\n",
    "        #add more stopwords in this particular case\n",
    "        stops.extend(['love','like','hate','amazing','favorite','dislike',\"don't\",'awesome','great','good','bad','horrible','excellent'])\n",
    "        stemmer = SnowballStemmer('english')\n",
    "\n",
    "        text = str(text).lower() # convert text to lower-case\n",
    "        text = word_tokenize(text) # remove repeated characters (helloooooooo into hello)    \n",
    "     \n",
    "        stemmed_words = [stemmer.stem(word) for word in text]\n",
    "        text = \" \".join(stemmed_words) # word stemmer\n",
    "    \n",
    "        tokenizer = RegexpTokenizer(r'\\w+') #tokenize\n",
    "        text = tokenizer.tokenize(text)\n",
    "    \n",
    "        stop_words = [word for word in text if word not in stops]\n",
    "        text = \" \".join(stop_words)\n",
    "   \n",
    "        return text"
   ]
  },
  {
   "cell_type": "code",
   "execution_count": 26,
   "metadata": {},
   "outputs": [],
   "source": [
    "#Text preprocess \n",
    "df_review = pd.read_csv('flaskexample/data/fragrance_data.csv')\n",
    "df_review['preprocess_text_tot'] = df_review['text_tot'].apply(lambda x: preprocessText(x))"
   ]
  },
  {
   "cell_type": "code",
   "execution_count": 27,
   "metadata": {},
   "outputs": [],
   "source": [
    "#unable to read directly\n",
    "#train the model again\n",
    "from gensim import corpora, models\n",
    "dictionary = corpora.Dictionary(df_review['preprocess_text_tot'].str.split())\n",
    "#create corpus\n",
    "corpus = [dictionary.doc2bow(text) for text in df_review['preprocess_text_tot'].str.split()]\n",
    "#create TF-IDF vectors\n",
    "tfidf = models.TfidfModel(corpus) # fit model\n",
    "corpus_tfidf = tfidf[corpus]\n"
   ]
  },
  {
   "cell_type": "code",
   "execution_count": 30,
   "metadata": {},
   "outputs": [
    {
     "name": "stdout",
     "output_type": "stream",
     "text": [
      "(255, 18901)\n"
     ]
    },
    {
     "data": {
      "text/html": [
       "<div>\n",
       "<style scoped>\n",
       "    .dataframe tbody tr th:only-of-type {\n",
       "        vertical-align: middle;\n",
       "    }\n",
       "\n",
       "    .dataframe tbody tr th {\n",
       "        vertical-align: top;\n",
       "    }\n",
       "\n",
       "    .dataframe thead th {\n",
       "        text-align: right;\n",
       "    }\n",
       "</style>\n",
       "<table border=\"1\" class=\"dataframe\">\n",
       "  <thead>\n",
       "    <tr style=\"text-align: right;\">\n",
       "      <th></th>\n",
       "      <th>0</th>\n",
       "      <th>1</th>\n",
       "      <th>2</th>\n",
       "      <th>3</th>\n",
       "      <th>4</th>\n",
       "      <th>5</th>\n",
       "      <th>6</th>\n",
       "      <th>7</th>\n",
       "      <th>8</th>\n",
       "      <th>9</th>\n",
       "      <th>...</th>\n",
       "      <th>18891</th>\n",
       "      <th>18892</th>\n",
       "      <th>18893</th>\n",
       "      <th>18894</th>\n",
       "      <th>18895</th>\n",
       "      <th>18896</th>\n",
       "      <th>18897</th>\n",
       "      <th>18898</th>\n",
       "      <th>18899</th>\n",
       "      <th>18900</th>\n",
       "    </tr>\n",
       "    <tr>\n",
       "      <th>name</th>\n",
       "      <th></th>\n",
       "      <th></th>\n",
       "      <th></th>\n",
       "      <th></th>\n",
       "      <th></th>\n",
       "      <th></th>\n",
       "      <th></th>\n",
       "      <th></th>\n",
       "      <th></th>\n",
       "      <th></th>\n",
       "      <th></th>\n",
       "      <th></th>\n",
       "      <th></th>\n",
       "      <th></th>\n",
       "      <th></th>\n",
       "      <th></th>\n",
       "      <th></th>\n",
       "      <th></th>\n",
       "      <th></th>\n",
       "      <th></th>\n",
       "      <th></th>\n",
       "    </tr>\n",
       "  </thead>\n",
       "  <tbody>\n",
       "    <tr>\n",
       "      <th>1 Million</th>\n",
       "      <td>0.007463</td>\n",
       "      <td>0.02117</td>\n",
       "      <td>0.018286</td>\n",
       "      <td>0.075530</td>\n",
       "      <td>0.007271</td>\n",
       "      <td>0.011376</td>\n",
       "      <td>0.016372</td>\n",
       "      <td>0.010459</td>\n",
       "      <td>0.00967</td>\n",
       "      <td>0.031287</td>\n",
       "      <td>...</td>\n",
       "      <td>0.0</td>\n",
       "      <td>0.0</td>\n",
       "      <td>0.0</td>\n",
       "      <td>0.0</td>\n",
       "      <td>0.0</td>\n",
       "      <td>0.0</td>\n",
       "      <td>0.0</td>\n",
       "      <td>0.0</td>\n",
       "      <td>0.0</td>\n",
       "      <td>0.0</td>\n",
       "    </tr>\n",
       "    <tr>\n",
       "      <th>1 Million Lucky</th>\n",
       "      <td>0.000000</td>\n",
       "      <td>0.00000</td>\n",
       "      <td>0.000000</td>\n",
       "      <td>0.014412</td>\n",
       "      <td>0.016186</td>\n",
       "      <td>0.000000</td>\n",
       "      <td>0.000000</td>\n",
       "      <td>0.000000</td>\n",
       "      <td>0.00000</td>\n",
       "      <td>0.000000</td>\n",
       "      <td>...</td>\n",
       "      <td>0.0</td>\n",
       "      <td>0.0</td>\n",
       "      <td>0.0</td>\n",
       "      <td>0.0</td>\n",
       "      <td>0.0</td>\n",
       "      <td>0.0</td>\n",
       "      <td>0.0</td>\n",
       "      <td>0.0</td>\n",
       "      <td>0.0</td>\n",
       "      <td>0.0</td>\n",
       "    </tr>\n",
       "    <tr>\n",
       "      <th>212</th>\n",
       "      <td>0.000000</td>\n",
       "      <td>0.00000</td>\n",
       "      <td>0.000000</td>\n",
       "      <td>0.002266</td>\n",
       "      <td>0.010179</td>\n",
       "      <td>0.000000</td>\n",
       "      <td>0.000000</td>\n",
       "      <td>0.000000</td>\n",
       "      <td>0.00000</td>\n",
       "      <td>0.000000</td>\n",
       "      <td>...</td>\n",
       "      <td>0.0</td>\n",
       "      <td>0.0</td>\n",
       "      <td>0.0</td>\n",
       "      <td>0.0</td>\n",
       "      <td>0.0</td>\n",
       "      <td>0.0</td>\n",
       "      <td>0.0</td>\n",
       "      <td>0.0</td>\n",
       "      <td>0.0</td>\n",
       "      <td>0.0</td>\n",
       "    </tr>\n",
       "  </tbody>\n",
       "</table>\n",
       "<p>3 rows × 18901 columns</p>\n",
       "</div>"
      ],
      "text/plain": [
       "                    0        1         2         3         4         5      \\\n",
       "name                                                                         \n",
       "1 Million        0.007463  0.02117  0.018286  0.075530  0.007271  0.011376   \n",
       "1 Million Lucky  0.000000  0.00000  0.000000  0.014412  0.016186  0.000000   \n",
       "212              0.000000  0.00000  0.000000  0.002266  0.010179  0.000000   \n",
       "\n",
       "                    6         7        8         9      ...    18891  18892  \\\n",
       "name                                                    ...                   \n",
       "1 Million        0.016372  0.010459  0.00967  0.031287  ...      0.0    0.0   \n",
       "1 Million Lucky  0.000000  0.000000  0.00000  0.000000  ...      0.0    0.0   \n",
       "212              0.000000  0.000000  0.00000  0.000000  ...      0.0    0.0   \n",
       "\n",
       "                 18893  18894  18895  18896  18897  18898  18899  18900  \n",
       "name                                                                     \n",
       "1 Million          0.0    0.0    0.0    0.0    0.0    0.0    0.0    0.0  \n",
       "1 Million Lucky    0.0    0.0    0.0    0.0    0.0    0.0    0.0    0.0  \n",
       "212                0.0    0.0    0.0    0.0    0.0    0.0    0.0    0.0  \n",
       "\n",
       "[3 rows x 18901 columns]"
      ]
     },
     "execution_count": 30,
     "metadata": {},
     "output_type": "execute_result"
    }
   ],
   "source": [
    "tfidfvector = gensim.matutils.corpus2csc(corpus_tfidf)\n",
    "tfidfvector = tfidfvector.T.toarray()\n",
    "tfidf_matrix = pd.DataFrame(tfidfvector, index=df_review['name'])\n",
    "print(tfidf_matrix.shape)\n",
    "tfidf_matrix.head(3)"
   ]
  },
  {
   "cell_type": "code",
   "execution_count": 34,
   "metadata": {},
   "outputs": [
    {
     "data": {
      "text/plain": [
       "array([[0.0074628 , 0.02117018, 0.018286  , ..., 0.        , 0.        ,\n",
       "        0.        ],\n",
       "       [0.        , 0.        , 0.        , ..., 0.        , 0.        ,\n",
       "        0.        ],\n",
       "       [0.        , 0.        , 0.        , ..., 0.        , 0.        ,\n",
       "        0.        ],\n",
       "       ...,\n",
       "       [0.0083488 , 0.        , 0.        , ..., 0.        , 0.        ,\n",
       "        0.        ],\n",
       "       [0.        , 0.        , 0.        , ..., 0.        , 0.        ,\n",
       "        0.        ],\n",
       "       [0.        , 0.        , 0.        , ..., 0.03671832, 0.03671832,\n",
       "        0.03671832]])"
      ]
     },
     "execution_count": 34,
     "metadata": {},
     "output_type": "execute_result"
    }
   ],
   "source": [
    "tfidfvector"
   ]
  },
  {
   "cell_type": "code",
   "execution_count": 67,
   "metadata": {},
   "outputs": [
    {
     "data": {
      "text/plain": [
       "TruncatedSVD(algorithm='randomized', n_components=200, n_iter=10,\n",
       "       random_state=None, tol=0.0)"
      ]
     },
     "execution_count": 67,
     "metadata": {},
     "output_type": "execute_result"
    }
   ],
   "source": [
    "from sklearn.decomposition import TruncatedSVD\n",
    "svd = TruncatedSVD(n_components=200,n_iter=10)\n",
    "svd.fit(tfidfvector)  \n",
    "\n"
   ]
  },
  {
   "cell_type": "code",
   "execution_count": 68,
   "metadata": {},
   "outputs": [
    {
     "name": "stdout",
     "output_type": "stream",
     "text": [
      "0.9372175682306161\n"
     ]
    }
   ],
   "source": [
    "print(svd.explained_variance_ratio_.sum())  \n"
   ]
  },
  {
   "cell_type": "code",
   "execution_count": 51,
   "metadata": {},
   "outputs": [
    {
     "data": {
      "text/plain": [
       "array([4.81483556, 2.61140459, 2.31029444, 2.08209007, 1.99403052,\n",
       "       1.82569384, 1.71527602, 1.67024162, 1.63998637, 1.62377595,\n",
       "       1.60188158, 1.58106594, 1.57437442, 1.53520446, 1.52628286,\n",
       "       1.50927503, 1.49269773, 1.47400217, 1.45830651, 1.4056428 ,\n",
       "       1.40171867, 1.37031096, 1.36011905, 1.35798581, 1.33096218,\n",
       "       1.32129729, 1.30738461, 1.2879087 , 1.28030267, 1.27417099,\n",
       "       1.25655478, 1.24038144, 1.23167056, 1.2285243 , 1.21670199,\n",
       "       1.20962948, 1.20348022, 1.19020867, 1.18458046, 1.17883124,\n",
       "       1.17016599, 1.15542991, 1.15234882, 1.15037424, 1.14485603,\n",
       "       1.14018553, 1.13166888, 1.12450712, 1.11075348, 1.11003782,\n",
       "       1.09909841, 1.09260624, 1.08682695, 1.08148771, 1.08028199,\n",
       "       1.07611661, 1.06421424, 1.06286382, 1.06063753, 1.05928822,\n",
       "       1.05041158, 1.04996543, 1.04382895, 1.04176209, 1.0373383 ,\n",
       "       1.02887164, 1.02753251, 1.02487223, 1.02118495, 1.01843659,\n",
       "       1.01456021, 1.01047822, 1.00770554, 1.00108292, 0.99933763,\n",
       "       0.99728965, 0.99264381, 0.9918922 , 0.98627597, 0.98581756,\n",
       "       0.98248667, 0.97923542, 0.97615581, 0.9732964 , 0.96871682,\n",
       "       0.96550472, 0.96348813, 0.96038266, 0.956767  , 0.95567554,\n",
       "       0.9517822 , 0.94714099, 0.94431104, 0.94052793, 0.93747497,\n",
       "       0.93510714, 0.931702  , 0.92964414, 0.92277993, 0.92170447])"
      ]
     },
     "execution_count": 51,
     "metadata": {},
     "output_type": "execute_result"
    }
   ],
   "source": [
    "svd.singular_values_\n"
   ]
  },
  {
   "cell_type": "code",
   "execution_count": 40,
   "metadata": {},
   "outputs": [
    {
     "name": "stderr",
     "output_type": "stream",
     "text": [
      "/anaconda3/lib/python3.6/site-packages/smart_open/smart_open_lib.py:398: UserWarning: This function is deprecated, use smart_open.open instead. See the migration notes for details: https://github.com/RaRe-Technologies/smart_open/blob/master/README.rst#migrating-to-the-new-open-function\n",
      "  'See the migration notes for details: %s' % _MIGRATION_NOTES_URL\n",
      "/anaconda3/lib/python3.6/site-packages/smart_open/smart_open_lib.py:398: UserWarning: This function is deprecated, use smart_open.open instead. See the migration notes for details: https://github.com/RaRe-Technologies/smart_open/blob/master/README.rst#migrating-to-the-new-open-function\n",
      "  'See the migration notes for details: %s' % _MIGRATION_NOTES_URL\n"
     ]
    },
    {
     "data": {
      "text/plain": [
       "array([4.81483556, 2.61140328, 2.31029242, 2.08208411, 1.99402544,\n",
       "       1.82567742, 1.71525166, 1.67022121, 1.63994589, 1.62370665,\n",
       "       1.60182378, 1.58102264, 1.57430991, 1.53512549, 1.52617852,\n",
       "       1.50917556, 1.49260206, 1.47390863, 1.4582081 , 1.40536772,\n",
       "       1.40154535, 1.37014659, 1.35992935, 1.35769438, 1.33065821,\n",
       "       1.32092854, 1.30714085, 1.28769599, 1.28006589, 1.27369208,\n",
       "       1.25616317, 1.23981042, 1.23106456, 1.2281145 , 1.21623786,\n",
       "       1.20910058, 1.20295242, 1.18935242, 1.18396779, 1.17798097,\n",
       "       1.16944256, 1.15472199, 1.15174006, 1.14952505, 1.14424076,\n",
       "       1.13928736, 1.13029302, 1.1235779 , 1.10977311, 1.10884242,\n",
       "       1.09769528, 1.09155279, 1.08561004, 1.08031535, 1.07890647,\n",
       "       1.07427319, 1.06324446, 1.06149532, 1.05936182, 1.05804335,\n",
       "       1.04958882, 1.04852465, 1.04314241, 1.04017455, 1.03666629,\n",
       "       1.02762633, 1.02589918, 1.02351372, 1.01983117, 1.01711655,\n",
       "       1.0122475 , 1.00840034, 1.00646706, 0.99963748, 0.99702739,\n",
       "       0.99414878, 0.99142765, 0.99004589, 0.985225  , 0.98406787,\n",
       "       0.97978237, 0.97868795, 0.97550658, 0.97281679, 0.96829342,\n",
       "       0.96601717, 0.96289427, 0.95823155, 0.95706447, 0.95493825,\n",
       "       0.95116454, 0.94788291, 0.94518529, 0.94334836, 0.94225016,\n",
       "       0.93715004, 0.93258587, 0.93202074, 0.92731034, 0.92575573])"
      ]
     },
     "execution_count": 40,
     "metadata": {},
     "output_type": "execute_result"
    }
   ],
   "source": [
    "# compare to the singular values obtained by gensim.lsimodel\n",
    "lsi = models.LsiModel.load('flaskexample/models/lsimodel')\n",
    "lsi.projection.s"
   ]
  },
  {
   "cell_type": "code",
   "execution_count": null,
   "metadata": {},
   "outputs": [],
   "source": []
  }
 ],
 "metadata": {
  "kernelspec": {
   "display_name": "Python 3",
   "language": "python",
   "name": "python3"
  },
  "language_info": {
   "codemirror_mode": {
    "name": "ipython",
    "version": 3
   },
   "file_extension": ".py",
   "mimetype": "text/x-python",
   "name": "python",
   "nbconvert_exporter": "python",
   "pygments_lexer": "ipython3",
   "version": "3.6.7"
  }
 },
 "nbformat": 4,
 "nbformat_minor": 2
}
